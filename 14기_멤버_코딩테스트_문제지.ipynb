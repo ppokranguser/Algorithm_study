{
  "cells": [
    {
      "cell_type": "markdown",
      "metadata": {
        "id": "view-in-github",
        "colab_type": "text"
      },
      "source": [
        "<a href=\"https://colab.research.google.com/github/ppokranguser/Algorithm_study/blob/main/14%E1%84%80%E1%85%B5_%E1%84%86%E1%85%A6%E1%86%B7%E1%84%87%E1%85%A5_%E1%84%8F%E1%85%A9%E1%84%83%E1%85%B5%E1%86%BC%E1%84%90%E1%85%A6%E1%84%89%E1%85%B3%E1%84%90%E1%85%B3_%E1%84%86%E1%85%AE%E1%86%AB%E1%84%8C%E1%85%A6%E1%84%8C%E1%85%B5.ipynb\" target=\"_parent\"><img src=\"https://colab.research.google.com/assets/colab-badge.svg\" alt=\"Open In Colab\"/></a>"
      ]
    },
    {
      "cell_type": "markdown",
      "metadata": {
        "id": "UVl9CcLwy-rt"
      },
      "source": [
        "이 코딩 테스트는 총 100점 만점이며, 세 개의 섹션으로 구성되어 있습니다.\n",
        "\n",
        "- 테스트를 시작하기 전에 필요한 패키지를 먼저 실행해 주신 후 진행하시면 됩니다.\n",
        "- 반드시 .ipynb 파일 형식으로 저장 후 다음의 구글폼으로 제출해 주세요! https://docs.google.com/forms/d/1MeKTUtoUvWv64kRmD2yjMt8xvFF5Q1hcNeyPRs4nhlI/viewform\n",
        "- 제출하실 땐 14기_멤버_코딩테스트_문제지_홍길동 과 같이 마지막에 이름도 추가해주세요."
      ]
    },
    {
      "cell_type": "markdown",
      "metadata": {
        "id": "PlL1PUbLU6v5"
      },
      "source": [
        "### 필요 패키지 import"
      ]
    },
    {
      "cell_type": "code",
      "execution_count": 1,
      "metadata": {
        "id": "P6x5IstKU8NR"
      },
      "outputs": [],
      "source": [
        "import numpy as np\n",
        "import pandas as pd\n",
        "import matplotlib.pyplot as plt\n",
        "import seaborn as sns"
      ]
    },
    {
      "cell_type": "markdown",
      "metadata": {
        "id": "oubhZJ5RU9pi"
      },
      "source": [
        "### 1부: 파이썬, numpy, pandas 기초 (20점)"
      ]
    },
    {
      "cell_type": "markdown",
      "metadata": {
        "id": "XQjkKzMKW2fN"
      },
      "source": [
        "1.1 오늘의 날짜, 자신의 이름, 자신의 생일, MBTI를 리스트로 저장하고 그것을 Series의 형태로 변환하여 출력하세요.(3점)\n",
        "\n",
        "출력 예시:\n",
        "\n",
        "![image.png](data:image/png;base64,iVBORw0KGgoAAAANSUhEUgAAAIgAAABjCAYAAABAOUgTAAAAAXNSR0IArs4c6QAAAARnQU1BAACxjwv8YQUAAAAJcEhZcwAADsMAAA7DAcdvqGQAAARSSURBVHhe7doNctsgEAVgtzdJ7n8mX6Xptt4p2e4+EALEWu+b0cQGCWF4+rGjH79+exAFfr7+ErkYEIIYEIIYEIIYEILgt5jPz8/Xq7+ez+fr1XqoL711JVmv9fON2J81o80hJCCej4+P16t/vLIVUF9660pS5pV7UJuoDpnR5ii8xEy29GifIEVAege5Zbsjl5ZZdg5RyjNI76SuCIPso1x6rOhnq3QB6R08b7uoLSn3lhbSXrnodrYtXSwp8/p0mde9yH+uvjnytPbJlkX9LsujdSy0P1TXIlpXyu2ySpozSO+RFW2325GK+iPl5bJSioCMDoeSel30/RVq/bxSypvUEfRo1EXLdnNVaFWKX1KjQdL+RP2sbVeSdVs/HxoXVBep9bOnzVH4wBBBt73EUBsGhCAGhCAGhCDepF6k9ZuJ9w3HW1fWi8pr0LeiakCiHdN1vDlpLTuq6XcQBmQMHc+a2nhvExAxYif03dnJPLK9lNfA/UpAkJX/ObwDNJ4tYx2t0zpPR+eTZ5ALREc1GmfdJlqndZ6OzicDcrHa+NaCoWw7ul2rqH0GZJFRE7YaA5JAS7hmzREDslhtsnvHOpqns/tjQBZqGcuRE31mf4r/i0lAJxEts1TPIDRWz5lA1LYT3ra9+1MMCEG8xBDEgBDEgBDEgBAEb1LtHfDMr1M1qC+9dULqj36uLG0OIQHxeP8WPvqv4lFQX3rrhLz21kGytDnKrS8xM47ILG22CgNyZaesnfpyN81nkMuugY6d+vLumgJyt3DIPrzlDK89WXZXDYh8iLudOWQf3nKG154su4MBuWM46LswIAwHieabVLqn8JdUOWo9VxzJtb7Y+rKPqE70nJ2ytDkCnwchiJcYghgQghgQghgQghgQghgQgtI8UZaJ95sFKrPjrKK6pfMgAfHUnnKiWOvYaRka19a2ZuElZqHoTLGzMCBLT2O0reoZRFKvC0NzDrrf2FU1IPKhdMl4isyiPBDtONu6lQcq70EWiw608kC0AUB1szEgBIUB8VJOY8hZIMv48gxCUBgQTXm5rL7+vbMsY8knygjiJYYgBoQgBoQgBoQgBoSgQwHJ8uNOi5bP8k6ft1f3GYSDd1zGMUt1iVk9wPxhsCEgMil2YvQ9qiuV6+vfaL1yGQW1V6vz6DbRtl6dvrbl2/vz4GGgfPZRXtv3Hq9cy1AbaLsz0P6iOtVTZutRXQbhGURSXp5iW0+3sp49cqJ27Lqjefsu9ze6L3Z/wr7PZqt7EBngctlVln6OMDUgMnhHjiBZ1y6lXSaj1s93MiUgMmDvfmTdRRgQO8k9E+4dWbZNdPTZfR49Ur3PULZxpC+ItmP3J+z7bKrPg9gP7w2wN7B2XaFl0XZarrx2e3j7q/VF6DpWrZ9lfVTntbuj4Q8M9Qz4brJN4kx8ooygrb7m0n4YEIIYEIIYEIIYEIIYEIIYEIIYEIIYEIIYEIIYEAIejy+XrdfzWRrpjQAAAABJRU5ErkJggg==)\n"
      ]
    },
    {
      "cell_type": "code",
      "source": [
        "import pandas as pd\n",
        "from datetime import date\n",
        "\n",
        "# 오늘 날짜, 이름, 생일, MBTI를 리스트로 저장\n",
        "data = [str(date.today()), \"김성민\", \"2002-10-13\", \"INFP\"]\n",
        "\n",
        "# 리스트를 pandas Series로 변환\n",
        "series = pd.Series(data)\n",
        "\n",
        "# 출력\n",
        "print(series)\n"
      ],
      "metadata": {
        "colab": {
          "base_uri": "https://localhost:8080/"
        },
        "id": "Va6glZl4wGse",
        "outputId": "2ccd5cab-982b-4e21-cb6d-4df7618bbb30"
      },
      "execution_count": 3,
      "outputs": [
        {
          "output_type": "stream",
          "name": "stdout",
          "text": [
            "0    2025-01-01\n",
            "1           김성민\n",
            "2    2002-10-13\n",
            "3          INFP\n",
            "dtype: object\n"
          ]
        }
      ]
    },
    {
      "cell_type": "markdown",
      "metadata": {
        "id": "zRhJK5QaKwlc"
      },
      "source": [
        "1.2 정수 number와 n, m이 주어집니다. number가 n의 배수이면서 m의 배수이면 1을 아니라면 0을 return하도록 solution 함수를 완성해주세요. (4점)"
      ]
    },
    {
      "cell_type": "code",
      "execution_count": 5,
      "metadata": {
        "id": "0gv7x6-yJhCf",
        "colab": {
          "base_uri": "https://localhost:8080/"
        },
        "outputId": "8e3fbfef-39c2-48bd-9a18-6be42a2a2b12"
      },
      "outputs": [
        {
          "output_type": "execute_result",
          "data": {
            "text/plain": [
              "1"
            ]
          },
          "metadata": {},
          "execution_count": 5
        }
      ],
      "source": [
        "def solution(number, n, m):\n",
        "    if number % n == 0 and number % m == 0 :\n",
        "        return 1\n",
        "    else:\n",
        "        return 0\n",
        "\n",
        "solution(99, 3, 11) #1을 출력해야 합니다."
      ]
    },
    {
      "cell_type": "markdown",
      "metadata": {
        "id": "enYTKfmMYHB0"
      },
      "source": [
        "1.3 딕셔너리를 사용하여 다음의 DataFrame 모양을 만들어 출력하세요.(DataFrame은 df로 저장해주세요) (4점)\n",
        "\n",
        "![image.png](data:image/png;base64,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)"
      ]
    },
    {
      "cell_type": "code",
      "execution_count": 6,
      "metadata": {
        "id": "OF0OG3w8YHB1",
        "colab": {
          "base_uri": "https://localhost:8080/"
        },
        "outputId": "0cedc890-43ea-4290-d5fa-02b96dbb6270"
      },
      "outputs": [
        {
          "output_type": "stream",
          "name": "stdout",
          "text": [
            "     수학   화학  물리   생물\n",
            "학생1  95  100  90   80\n",
            "학생2  95   85  95  100\n",
            "학생3  80   90  80   70\n"
          ]
        }
      ],
      "source": [
        "import pandas as pd\n",
        "\n",
        "# 딕셔너리 생성\n",
        "data = {\n",
        "    \"수학\": [95, 95, 80],\n",
        "    \"화학\": [100, 85, 90],\n",
        "    \"물리\": [90, 95, 80],\n",
        "    \"생물\": [80, 100, 70]\n",
        "}\n",
        "\n",
        "# 딕셔너리를 DataFrame으로 변환\n",
        "df = pd.DataFrame(data, index=[\"학생1\", \"학생2\", \"학생3\"])\n",
        "\n",
        "# DataFrame 출력\n",
        "print(df)\n"
      ]
    },
    {
      "cell_type": "markdown",
      "metadata": {
        "id": "u6H2fhjOYHB3"
      },
      "source": [
        "1.4 위에서 만들어진 df의 수학 열 전에 '국어'열을 추가하세요. 학생1의 점수는 95, 학생2의 점수는 85, 학생 3의 점수는 65로 지정해주세요. (5점)\n",
        "\n",
        "출력 예시:\n",
        "\n",
        "![image.png](data:image/png;base64,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)"
      ]
    },
    {
      "cell_type": "code",
      "execution_count": 7,
      "metadata": {
        "id": "W8PUrVNdYHB3",
        "colab": {
          "base_uri": "https://localhost:8080/"
        },
        "outputId": "2bb34149-9e53-4001-ae9e-05d0660244ef"
      },
      "outputs": [
        {
          "output_type": "stream",
          "name": "stdout",
          "text": [
            "     국어  수학   화학  물리   생물\n",
            "학생1  95  95  100  90   80\n",
            "학생2  85  95   85  95  100\n",
            "학생3  65  80   90  80   70\n"
          ]
        }
      ],
      "source": [
        "# \"국어\" 열 추가\n",
        "df.insert(0, \"국어\", [95, 85, 65])\n",
        "\n",
        "# DataFrame 출력\n",
        "print(df)"
      ]
    },
    {
      "cell_type": "markdown",
      "metadata": {
        "id": "fCUi6vjdYHB4"
      },
      "source": [
        "1.5 새로 만들어진 df에 '평균'열을 추가하고, 다섯 과목의 평균 점수를 계산해주세요.(4점)\n",
        "\n",
        "출력예시:\n",
        "\n",
        "![image.png](data:image/png;base64,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)"
      ]
    },
    {
      "cell_type": "code",
      "execution_count": 10,
      "metadata": {
        "id": "yUFZMiAOxun4",
        "colab": {
          "base_uri": "https://localhost:8080/"
        },
        "outputId": "4e40745c-78f0-4c74-8963-97591bc49bd2"
      },
      "outputs": [
        {
          "output_type": "stream",
          "name": "stdout",
          "text": [
            "     국어  수학   화학  물리   생물    평균\n",
            "학생1  95  95  100  90   80  92.0\n",
            "학생2  85  95   85  95  100  92.0\n",
            "학생3  65  80   90  80   70  77.0\n"
          ]
        }
      ],
      "source": [
        "\n",
        "# 평균 열 추가\n",
        "df[\"평균\"] = df.mean(axis=1)\n",
        "\n",
        "# DataFrame 출력\n",
        "print(df)"
      ]
    },
    {
      "cell_type": "markdown",
      "metadata": {
        "id": "OJiYs6T2YYh-"
      },
      "source": [
        "### 2부 : DataFrame활용 및 전처리 (35점)"
      ]
    },
    {
      "cell_type": "markdown",
      "metadata": {
        "id": "pAxnfgSVYwso"
      },
      "source": [
        "2.1 order.csv 파일을 불러오고 order_df 변수에 저장하여 맨 위에 5개 행을 출력하세요. (3점)\n",
        "\n",
        "출력 예시:\n",
        "\n",
        "![image.png](data:image/png;base64,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)"
      ]
    },
    {
      "cell_type": "code",
      "execution_count": 12,
      "metadata": {
        "id": "9WrkBHvmZhc3",
        "colab": {
          "base_uri": "https://localhost:8080/"
        },
        "outputId": "557a3a4e-b508-4bac-ae42-f30b207caa67"
      },
      "outputs": [
        {
          "output_type": "stream",
          "name": "stdout",
          "text": [
            "   order_id      order_timestamp  order_details_id       pizza_id  quantity\n",
            "0         1  2023-01-01 11:45:11                 1     hawaiian_m         1\n",
            "1         2  2023-01-01 11:53:26                 2     big_meat_l         1\n",
            "2         2  2023-01-01 11:53:26                 3  classic_dlx_m         1\n",
            "3         2  2023-01-01 11:53:26                 4  five_cheese_l         1\n",
            "4         2  2023-01-01 11:53:26                 5       potato_m         1\n"
          ]
        }
      ],
      "source": [
        "import pandas as pd\n",
        "\n",
        "# CSV 파일 읽기\n",
        "order_df = pd.read_csv(\"orders.csv\")\n",
        "\n",
        "# 맨 위 5개 행 출력\n",
        "print(order_df.head(5))"
      ]
    },
    {
      "cell_type": "markdown",
      "metadata": {
        "id": "IwMwQmVwaN0n"
      },
      "source": [
        "2.2 pizzas.csv도 똑같은 방법으로 불러와 pizzas_df 변수에 저장해주세요. (3점)"
      ]
    },
    {
      "cell_type": "code",
      "execution_count": 18,
      "metadata": {
        "id": "wAYulR7zae3P",
        "colab": {
          "base_uri": "https://localhost:8080/"
        },
        "outputId": "f8e246ca-d0ac-4f87-a80b-38c00c4bd5a6"
      },
      "outputs": [
        {
          "output_type": "stream",
          "name": "stdout",
          "text": [
            "     pizza_id pizza_name size  price\n",
            "0   bbq_ckn_s  바비큐 치킨 피자    S  11300\n",
            "1   bbq_ckn_m  바비큐 치킨 피자    M  22000\n",
            "2   bbq_ckn_l  바비큐 치킨 피자    L  34000\n",
            "3  thai_ckn_s   타이 치킨 피자    S  12300\n",
            "4  thai_ckn_m   타이 치킨 피자    M  24000\n"
          ]
        }
      ],
      "source": [
        "# CSV 파일 읽기\n",
        "pizzas_df = pd.read_csv(\"pizzas.csv\")\n",
        "\n",
        "# 맨 위 5개 행 출력\n",
        "print(pizzas_df.head(5))"
      ]
    },
    {
      "cell_type": "markdown",
      "metadata": {
        "id": "Vapsud9CaiO9"
      },
      "source": [
        "2.3 pizza_types.csv도 똑같은 방법으로 불러와 pizza_types_df 변수에 저장해주세요. (3점)"
      ]
    },
    {
      "cell_type": "code",
      "execution_count": 22,
      "metadata": {
        "id": "gNw_e-1gx_SJ",
        "colab": {
          "base_uri": "https://localhost:8080/"
        },
        "outputId": "5757dd65-ff9e-4664-cb90-dea364f95137"
      },
      "outputs": [
        {
          "output_type": "stream",
          "name": "stdout",
          "text": [
            "   pizza_name category                      ingredients\n",
            "0   바비큐 치킨 피자       치킨         치킨, 피망, 토마토, 적양파, 바비큐 소스\n",
            "1    타이 치킨 피자       치킨      치킨, 파인애플, 토마토, 피망, 타이 칠리 소스\n",
            "2     빅 미트 피자      클래식         베이컨, 토마토, 페퍼로니, 살라미, 초리조\n",
            "3  클래식 디럭스 피자      클래식      토마토, 페퍼로니, 버섯, 적양파, 피망, 베이컨\n",
            "4   슈퍼 슈프림 피자      클래식  페퍼로니, 토마토, 적양파, 그린 올리브, 옥수수, 마늘\n"
          ]
        }
      ],
      "source": [
        "# CSV 파일 읽기\n",
        "pizzas_types_df = pd.read_csv(\"pizza_types.csv\")\n",
        "\n",
        "# 맨 위 5개 행 출력\n",
        "print(pizzas_types_df.head(5))"
      ]
    },
    {
      "cell_type": "markdown",
      "metadata": {
        "id": "KqOGWxknbUsz"
      },
      "source": [
        "2.4 세 데이터프레임을 하나로 합쳐보겠습니다. 먼저, orders_df를 핵심 데이터로, pizzas_df을 보조 데이터로 두고, 'pizza_id' 컬럼을 기준으로 left방식으로 조인해주세요. 해당 데이터프레임을 merged_orders_df으로 저장하고, 첫 5개의 행을 출력해주세요. (5점)"
      ]
    },
    {
      "cell_type": "code",
      "execution_count": 20,
      "metadata": {
        "id": "0ItgyPc7yCbj",
        "colab": {
          "base_uri": "https://localhost:8080/"
        },
        "outputId": "22dfb106-2f90-4d4c-f439-0ffb501cbbef"
      },
      "outputs": [
        {
          "output_type": "stream",
          "name": "stdout",
          "text": [
            "   order_id      order_timestamp  order_details_id       pizza_id  quantity  \\\n",
            "0         1  2023-01-01 11:45:11                 1     hawaiian_m         1   \n",
            "1         2  2023-01-01 11:53:26                 2     big_meat_l         1   \n",
            "2         2  2023-01-01 11:53:26                 3  classic_dlx_m         1   \n",
            "3         2  2023-01-01 11:53:26                 4  five_cheese_l         1   \n",
            "4         2  2023-01-01 11:53:26                 5       potato_m         1   \n",
            "\n",
            "   pizza_name size  price  \n",
            "0     하와이안 피자    M  21800  \n",
            "1     빅 미트 피자    L  34000  \n",
            "2  클래식 디럭스 피자    M  20300  \n",
            "3   파이브 치즈 피자    L  31000  \n",
            "4     포테이토 피자    M  21800  \n"
          ]
        }
      ],
      "source": [
        "# 'pizza_id'를 기준으로 left 방식으로 조인\n",
        "merged_orders_df = pd.merge(order_df, pizzas_df, on=\"pizza_id\", how=\"left\")\n",
        "\n",
        "# 첫 5개 행 출력\n",
        "print(merged_orders_df.head(5))"
      ]
    },
    {
      "cell_type": "markdown",
      "metadata": {
        "id": "Cr0zcp3wcC-m"
      },
      "source": [
        "2.5 price컬럼은 피자의 단가를 나타냅니다. 주문 내역별로 실제 금액을 계산하려면 단가에 주문 수를 곱해야합니다. quantity컬럼과 price컬럼을 곱하고, 해당 값을 새로운 total_price컬럽에 저장해주세요. 이번에도 첫 5개의 행을 출력해주세요. (4점)"
      ]
    },
    {
      "cell_type": "code",
      "execution_count": 21,
      "metadata": {
        "id": "g8tbnbU8yEwI",
        "colab": {
          "base_uri": "https://localhost:8080/"
        },
        "outputId": "2606d65e-4b73-4bba-ae45-9964cf96e0c5"
      },
      "outputs": [
        {
          "output_type": "stream",
          "name": "stdout",
          "text": [
            "   order_id      order_timestamp  order_details_id       pizza_id  quantity  \\\n",
            "0         1  2023-01-01 11:45:11                 1     hawaiian_m         1   \n",
            "1         2  2023-01-01 11:53:26                 2     big_meat_l         1   \n",
            "2         2  2023-01-01 11:53:26                 3  classic_dlx_m         1   \n",
            "3         2  2023-01-01 11:53:26                 4  five_cheese_l         1   \n",
            "4         2  2023-01-01 11:53:26                 5       potato_m         1   \n",
            "\n",
            "   pizza_name size  price  total_price  \n",
            "0     하와이안 피자    M  21800        21800  \n",
            "1     빅 미트 피자    L  34000        34000  \n",
            "2  클래식 디럭스 피자    M  20300        20300  \n",
            "3   파이브 치즈 피자    L  31000        31000  \n",
            "4     포테이토 피자    M  21800        21800  \n"
          ]
        }
      ],
      "source": [
        "# 주문 금액 계산\n",
        "merged_orders_df[\"total_price\"] = merged_orders_df[\"quantity\"] * merged_orders_df[\"price\"]\n",
        "\n",
        "# 첫 5개 행 출력\n",
        "print(merged_orders_df.head(5))"
      ]
    },
    {
      "cell_type": "markdown",
      "metadata": {
        "id": "9rWkt3Q3dEo4"
      },
      "source": [
        "2.6 이젠 merged_orders_df과 pizza_types_df을 합치겠습니다. merged_orders_df를 핵심 데이터로, pizza_types_df을 보조 데이터로 두고, 'pizza_name'을 기준으로 left방식으로 조인해주세요. 해당 데이터프레임은 pizza_orders_df이란 변수에 저장하고, 첫 5행을 출력해주세요. (5점)"
      ]
    },
    {
      "cell_type": "code",
      "execution_count": 23,
      "metadata": {
        "id": "tjOEUd5JyF_R",
        "colab": {
          "base_uri": "https://localhost:8080/"
        },
        "outputId": "4425a80d-4f16-40b3-f9aa-e348f7ef6029"
      },
      "outputs": [
        {
          "output_type": "stream",
          "name": "stdout",
          "text": [
            "   order_id      order_timestamp  order_details_id       pizza_id  quantity  \\\n",
            "0         1  2023-01-01 11:45:11                 1     hawaiian_m         1   \n",
            "1         2  2023-01-01 11:53:26                 2     big_meat_l         1   \n",
            "2         2  2023-01-01 11:53:26                 3  classic_dlx_m         1   \n",
            "3         2  2023-01-01 11:53:26                 4  five_cheese_l         1   \n",
            "4         2  2023-01-01 11:53:26                 5       potato_m         1   \n",
            "\n",
            "   pizza_name size  price  total_price category  \\\n",
            "0     하와이안 피자    M  21800        21800      스페셜   \n",
            "1     빅 미트 피자    L  34000        34000      클래식   \n",
            "2  클래식 디럭스 피자    M  20300        20300      클래식   \n",
            "3   파이브 치즈 피자    L  31000        31000    베지테리언   \n",
            "4     포테이토 피자    M  21800        21800      스페셜   \n",
            "\n",
            "                                   ingredients  \n",
            "0                      토마토, 베이컨, 파인애플, 모짜렐라 치즈  \n",
            "1                     베이컨, 토마토, 페퍼로니, 살라미, 초리조  \n",
            "2                  토마토, 페퍼로니, 버섯, 적양파, 피망, 베이컨  \n",
            "3  모짜렐라 치즈, 프로볼로네 치즈, 고다 치즈, 페코리노 치즈, 고르곤졸라 치즈  \n",
            "4         모짜렐라 치즈, 토마토, 감자, 양파, 베이컨, 옥수수, 마요네즈  \n"
          ]
        }
      ],
      "source": [
        "# 'pizza_id'를 기준으로 left 방식으로 조인\n",
        "pizza_orders_df = pd.merge(merged_orders_df, pizzas_types_df, on=\"pizza_name\", how=\"left\")\n",
        "\n",
        "# 첫 5개 행 출력\n",
        "print(pizza_orders_df.head(5))"
      ]
    },
    {
      "cell_type": "markdown",
      "metadata": {
        "id": "IahK_KkZhK63"
      },
      "source": [
        "2.7 각 컬럼의 데이터 타입과 결측값 여부를 확인해주세요. (3점)"
      ]
    },
    {
      "cell_type": "code",
      "execution_count": 24,
      "metadata": {
        "id": "bhKBKR5wyMIg",
        "colab": {
          "base_uri": "https://localhost:8080/"
        },
        "outputId": "d516a759-09e0-440a-d911-7e1d6d07d9e0"
      },
      "outputs": [
        {
          "output_type": "stream",
          "name": "stdout",
          "text": [
            "<class 'pandas.core.frame.DataFrame'>\n",
            "RangeIndex: 47079 entries, 0 to 47078\n",
            "Data columns (total 11 columns):\n",
            " #   Column            Non-Null Count  Dtype \n",
            "---  ------            --------------  ----- \n",
            " 0   order_id          47079 non-null  int64 \n",
            " 1   order_timestamp   47079 non-null  object\n",
            " 2   order_details_id  47079 non-null  int64 \n",
            " 3   pizza_id          47079 non-null  object\n",
            " 4   quantity          47079 non-null  int64 \n",
            " 5   pizza_name        47079 non-null  object\n",
            " 6   size              47079 non-null  object\n",
            " 7   price             47079 non-null  int64 \n",
            " 8   total_price       47079 non-null  int64 \n",
            " 9   category          47079 non-null  object\n",
            " 10  ingredients       47079 non-null  object\n",
            "dtypes: int64(5), object(6)\n",
            "memory usage: 4.0+ MB\n",
            "None\n",
            "\n",
            "결측값 확인:\n",
            "order_id            0\n",
            "order_timestamp     0\n",
            "order_details_id    0\n",
            "pizza_id            0\n",
            "quantity            0\n",
            "pizza_name          0\n",
            "size                0\n",
            "price               0\n",
            "total_price         0\n",
            "category            0\n",
            "ingredients         0\n",
            "dtype: int64\n"
          ]
        }
      ],
      "source": [
        "# 데이터프레임 정보 출력 (데이터 타입 확인)\n",
        "print(pizza_orders_df.info())\n",
        "\n",
        "# 각 컬럼의 결측값 확인\n",
        "print(\"\\n결측값 확인:\")\n",
        "print(pizza_orders_df.isnull().sum())\n"
      ]
    },
    {
      "cell_type": "markdown",
      "metadata": {
        "id": "b1kIG0dghdDL"
      },
      "source": [
        "2.8 각 컬럼의 통계량도 확인해주세요. 정수형 컬럼들만 확인해주세요. (3점)"
      ]
    },
    {
      "cell_type": "code",
      "execution_count": 25,
      "metadata": {
        "id": "Bc8a0tTiyM9b",
        "colab": {
          "base_uri": "https://localhost:8080/"
        },
        "outputId": "1f8a3dac-44dd-4afa-9410-cd4949141885"
      },
      "outputs": [
        {
          "output_type": "stream",
          "name": "stdout",
          "text": [
            "           order_id  order_details_id      quantity         price  \\\n",
            "count  47079.000000      47079.000000  47079.000000  47079.000000   \n",
            "mean   10708.712058      23540.000000      1.052996  22945.597825   \n",
            "std     6175.450615      13590.680998      0.242338   9376.523771   \n",
            "min        1.000000          1.000000      1.000000   9300.000000   \n",
            "25%     5352.500000      11770.500000      1.000000  11300.000000   \n",
            "50%    10696.000000      23540.000000      1.000000  21800.000000   \n",
            "75%    16100.500000      35309.500000      1.000000  32300.000000   \n",
            "max    21350.000000      47079.000000      5.000000  38800.000000   \n",
            "\n",
            "         total_price  \n",
            "count   47079.000000  \n",
            "mean    24233.356698  \n",
            "std     11887.470629  \n",
            "min      9300.000000  \n",
            "25%     12300.000000  \n",
            "50%     22000.000000  \n",
            "75%     33800.000000  \n",
            "max    169000.000000  \n"
          ]
        }
      ],
      "source": [
        "# 정수형 컬럼들에 대한 통계량 확인\n",
        "print(pizza_orders_df.describe())\n"
      ]
    },
    {
      "cell_type": "markdown",
      "metadata": {
        "id": "o-koriIJiQ3h"
      },
      "source": [
        "2.9 현재 order_timestamp 컬럼은 object로 지정이 되어 있습니다. 해당 컬럼을 날짜와 시간을 나타내는 datetime 타입으로 바꿔주세요. (3점)"
      ]
    },
    {
      "cell_type": "code",
      "execution_count": 26,
      "metadata": {
        "id": "yuMknN8ryN8s",
        "colab": {
          "base_uri": "https://localhost:8080/"
        },
        "outputId": "91fcf412-c16f-4de1-88e1-f27ec76c9dfe"
      },
      "outputs": [
        {
          "output_type": "stream",
          "name": "stdout",
          "text": [
            "<class 'pandas.core.frame.DataFrame'>\n",
            "RangeIndex: 47079 entries, 0 to 47078\n",
            "Data columns (total 11 columns):\n",
            " #   Column            Non-Null Count  Dtype         \n",
            "---  ------            --------------  -----         \n",
            " 0   order_id          47079 non-null  int64         \n",
            " 1   order_timestamp   47079 non-null  datetime64[ns]\n",
            " 2   order_details_id  47079 non-null  int64         \n",
            " 3   pizza_id          47079 non-null  object        \n",
            " 4   quantity          47079 non-null  int64         \n",
            " 5   pizza_name        47079 non-null  object        \n",
            " 6   size              47079 non-null  object        \n",
            " 7   price             47079 non-null  int64         \n",
            " 8   total_price       47079 non-null  int64         \n",
            " 9   category          47079 non-null  object        \n",
            " 10  ingredients       47079 non-null  object        \n",
            "dtypes: datetime64[ns](1), int64(5), object(5)\n",
            "memory usage: 4.0+ MB\n",
            "None\n"
          ]
        }
      ],
      "source": [
        "# 'order_timestamp' 컬럼을 datetime 타입으로 변환\n",
        "pizza_orders_df['order_timestamp'] = pd.to_datetime(pizza_orders_df['order_timestamp'])\n",
        "\n",
        "# 변환 후 데이터 확인\n",
        "print(pizza_orders_df.info())\n"
      ]
    },
    {
      "cell_type": "markdown",
      "metadata": {
        "id": "yu_jrSCbiuOM"
      },
      "source": [
        "2.10 order_timestamp컬럼에 적절한 함수를 적용해서 첫 주문 일시와 마지막 주문 일시를 출력해주세요. (3점)\n",
        "\n",
        "출력 예시:\n",
        "\n",
        "![image.png](data:image/png;base64,iVBORw0KGgoAAAANSUhEUgAAARkAAAAsCAYAAABR0My9AAAAAXNSR0IArs4c6QAAAARnQU1BAACxjwv8YQUAAAAJcEhZcwAADsMAAA7DAcdvqGQAAAUuSURBVHhe7ZwNbuNGDIWzvUly/zPlKm25DbsEwX8NHdl5H0DYmiHfcCiJhrXe/Pr7X94AAGCJv75eAQBgBTQZAMAqaDIAgFXQZAAAq6DJAABWQZMBAKzS+ifsj4+Pr3d/+Pz8/Hr337w8rmBparRmJYa4kosVO9kfMY0D4BU4+juZEzdTReOUj0T7W/GZpjffzSWCtCQ6Z8mJuYgsjuarWsyGJhHFTTUZGa/zZ6r6m3l+G9RkKry/v7vGyPdTKhqnfBjPV49nmlWdKZYOj23MRWRx9L6iI9nQJKK4qSaj409qSaK5u1N+JkMdlM06PgF3au/T4NV45X2evC6YqWYUl2lunCNP80qed6b94Fc3Anplm8LxXEjWjzR53rMOcj8MHd/txE7zieLutsdn4o7XyB1pNRlZVHrlY7YuFC81JDzGPhKey6wD+fNanNM2V9eY5mnFPXrvz8K0vtI0P62+pSbDxdLFoWOriFUoPit4xecUvJa3XpQH1+dKPTpY56OCF0djbLwHerXsCpYe2bNBOXv1l7WU9fyplJoMF8vCG99CXpgVq2LFarsLlMuk7t04Pu/armDpkb0Kr7SXU7SfyUiu3Hh841aN0RcnmzdXxYrVJvOQ0DjNE5GfpuonkWt1mMb9dKxzdLWWk/P+zFxqMppO4cnXMm9OsnWSSDcyncejmeYQxdEc6MPXBNdPv4I/jJsMFZMu3LsU9WoD4P1EZsFxEjqu1MXTBPfBOkc0Jo3HqnR8X4H2L3755pGFssamWDetpuLTZaIZxci5U/mSjoVcR+KNM1lcRhZH81UtZkOTiOKmmoyOz/YQsZnnd1FuMly4aJMVn4xqIXmtiG4eG5pEdU8AvCL4G78AgFWOPvgFAAANmgwAYBU0GQDAKrf4ezI6znsAq7Un63naEmudCldysWIn+yOmcQBsUGoy0U0mL2br4q7E6jhPpzLWpaJxykei/a34TNOb7+YSQVoSnbPkxFyGt7epZhbnrRdxWlPrMayRrWexoelCTSYj+kM6kuyP6lzRqY51qWic8mE8Xz2eaVZ1plg6PLYxl0F+1fiKZhZH7ys6kkdpMtl6HhuaHk//TIY6rteVMyiOOvQ0/tl49n1e+jQdsLFepnniHOk1NjQ7PH2Toc13C0BFJ+M4euUxD573rAOvJ6Hj7j62meYTxW3scSPPKRuaz075mYxVPD0ubxztz3NVHSu+MhYR5cBUfE7BaxHWetn+vPksborUtdbo5ENjTCdXbw1JxUcS5dLV0ljxV/JjOD6ai9jQdPn9pSnB+z6mxyvf8ywfS8cyjTX2U+C9P6ouWrO6biUX9qFXyyT6WGP5W+ah5yLfDC+2q2n581g0F7Gh6XHLr0vUNS3TWGOnoa7esSpWrLa7QLlMat2N4/OsrYq1ntZi22ZaM4uNfB9Rg//5ajYhXhfT41M/L+4ktEbHMio+V/HW0OPZMTPJuaMlxzprnfDtaERonYluFhPNV9djP8tfj21odrjtg1/6JMisA3+CafPmJN21quj9aNN5PJppDlEczZ3mSp6nmeYSsZXno1hvMlbR6TjbJPlk9shCaWj9K3BdIrOY1pPwNMF92DhH333eV3/xa90QjJyL/CKmcZKKxol1NBPNKEbOncqXdCzkOhJvnMniKlh7y9aLyHKx1ouo5NLVJKI8sz14bGha3PL/LlWZxkmqGrroFt1cNjSJE3UB4BRHmwwAAGie/he/AIB7gyYDAFgFTQYAsAqaDABgFTQZAMAqaDIAgEXe3v4BK8FxpwzNo+IAAAAASUVORK5CYII=)"
      ]
    },
    {
      "cell_type": "code",
      "execution_count": 27,
      "metadata": {
        "id": "6fwRc0RVi5fO",
        "colab": {
          "base_uri": "https://localhost:8080/"
        },
        "outputId": "3bf21acd-66b0-4e12-fff5-89ad91e9fff5"
      },
      "outputs": [
        {
          "output_type": "stream",
          "name": "stdout",
          "text": [
            "첫 주문 일시: 2023-01-01 11:45:11\n",
            "마지막 주문 일시: 2023-12-31 21:56:56\n"
          ]
        }
      ],
      "source": [
        "# 첫 주문 일시\n",
        "first_order_time = pizza_orders_df['order_timestamp'].min()\n",
        "\n",
        "# 마지막 주문 일시\n",
        "last_order_time = pizza_orders_df['order_timestamp'].max()\n",
        "\n",
        "# 출력\n",
        "print(f\"첫 주문 일시: {first_order_time}\")\n",
        "print(f\"마지막 주문 일시: {last_order_time}\")\n"
      ]
    },
    {
      "cell_type": "markdown",
      "metadata": {
        "id": "o94M25g9jJQR"
      },
      "source": [
        "### 3부 : 분석 (45점)"
      ]
    },
    {
      "cell_type": "markdown",
      "metadata": {
        "id": "U2ZvfDAKthbr"
      },
      "source": [
        "3.1 3부에서는 이 피자 가게가 한 해 동안 어떻게 영업을 했고 어떤 성과를 거우었는지 종합적으로 결산을 해보겠습니다. 먼저, 영업일이 며칠이었는지 파악을 해보겠습니다. pizza_orders_df의 order_timestamp컬럼은 시간을 나타내는데, 이 컬럼에서 unique한 날짜 수를 세면 영업일 수를 구할 수 있습니다. dt.date과 nunique() 함수를 써서 total_days라는 변수에 총 영업일을 계산해서 저장하고 출력까지 해주세요. (7점)"
      ]
    },
    {
      "cell_type": "code",
      "execution_count": 28,
      "metadata": {
        "id": "dNSYrvVGyXFv",
        "colab": {
          "base_uri": "https://localhost:8080/"
        },
        "outputId": "66b0fe22-02e0-4a73-e210-77b846538bf0"
      },
      "outputs": [
        {
          "output_type": "stream",
          "name": "stdout",
          "text": [
            "총 영업일 수: 358\n"
          ]
        }
      ],
      "source": [
        "# 날짜만 추출하고 고유값 수 계산\n",
        "total_days = pizza_orders_df['order_timestamp'].dt.date.nunique()\n",
        "\n",
        "# 결과 출력\n",
        "print(f\"총 영업일 수: {total_days}\")\n"
      ]
    },
    {
      "cell_type": "markdown",
      "metadata": {
        "id": "-R0iiIiuufUA"
      },
      "source": [
        "3.2 다음으로는 총매출을 구해 보겠습니다. total_price컬럼은 이미 상세 주문별로 피자 단가와 수량을 곱해 둔 컬럼입니다. 그러므로 total_price 컬름의 값을 모두 더하면 매장 전체 매출을 구할 수 있습니다. 이를 직접 진행해보시고, 결과는 total_sales라는 변수에 저장해서 출력해주세요.\n",
        "- 결과를 출력할 때 소수 점 아래로는 출력하지 않고, 세 자리마다 콤마를 찍어주세요. (7점)"
      ]
    },
    {
      "cell_type": "code",
      "execution_count": 29,
      "metadata": {
        "id": "HTiM9PWfyX8g",
        "colab": {
          "base_uri": "https://localhost:8080/"
        },
        "outputId": "7d1e425a-f66d-4213-c70e-a84c9b591125"
      },
      "outputs": [
        {
          "output_type": "stream",
          "name": "stdout",
          "text": [
            "총 매출: 1,140,882,200원\n"
          ]
        }
      ],
      "source": [
        "# total_price 합계 계산\n",
        "total_sales = pizza_orders_df['total_price'].sum()\n",
        "\n",
        "# 결과 출력 (소수점 제거 및 세 자리마다 콤마 추가)\n",
        "print(f\"총 매출: {total_sales:,.0f}원\")\n"
      ]
    },
    {
      "cell_type": "markdown",
      "metadata": {
        "id": "kCcvBJBpvB8w"
      },
      "source": [
        "3.3 total_days와 total_sales를 활용하여 하루 평균 매출을 구해주세요. 3.2에서 했던 것과 같이, 소수 점 아래로는 출력하지 않고, 세 자리마다 콤마를 찍어주세요. (6점)"
      ]
    },
    {
      "cell_type": "code",
      "execution_count": 30,
      "metadata": {
        "id": "OX_2ie1fyYkI",
        "colab": {
          "base_uri": "https://localhost:8080/"
        },
        "outputId": "85e99af8-a208-49b8-c64b-cd9b7d054e69"
      },
      "outputs": [
        {
          "output_type": "stream",
          "name": "stdout",
          "text": [
            "하루 평균 매출: 3,186,822원\n"
          ]
        }
      ],
      "source": [
        "# 하루 평균 매출 계산\n",
        "average_daily_sales = total_sales / total_days\n",
        "\n",
        "# 결과 출력 (소수점 제거 및 세 자리마다 콤마 추가)\n",
        "print(f\"하루 평균 매출: {average_daily_sales:,.0f}원\")\n"
      ]
    },
    {
      "cell_type": "markdown",
      "metadata": {
        "id": "uNhFcMYivOgJ"
      },
      "source": [
        "3.4 이번에는  1년 동안 들어온 주문 횟수를 계산해보겠습니다. 주문은 아이디로 구분이 되며, order_id 컬럼의 unique 값 개수를 구하면 주문 수를 구할 수 있습니다. 이를 total_orders 변수에 저장하고, 주문 한 건당 금액의 평균 겂을 출력해주세요. (7점)"
      ]
    },
    {
      "cell_type": "code",
      "execution_count": 31,
      "metadata": {
        "id": "B0lERpCCyZNL",
        "colab": {
          "base_uri": "https://localhost:8080/"
        },
        "outputId": "f393fe3a-bb53-475e-908a-637c9879abda"
      },
      "outputs": [
        {
          "output_type": "stream",
          "name": "stdout",
          "text": [
            "총 주문 수: 21350건\n",
            "주문당 평균 금액: 53,437원\n"
          ]
        }
      ],
      "source": [
        "# 주문 수 계산\n",
        "total_orders = pizza_orders_df['order_id'].nunique()\n",
        "\n",
        "# 주문당 평균 금액 계산\n",
        "average_order_price = total_sales / total_orders\n",
        "\n",
        "# 결과 출력 (소수점 제거 및 세 자리마다 콤마 추가)\n",
        "print(f\"총 주문 수: {total_orders}건\")\n",
        "print(f\"주문당 평균 금액: {average_order_price:,.0f}원\")\n"
      ]
    },
    {
      "cell_type": "markdown",
      "metadata": {
        "id": "KXPYYSv7vtsE"
      },
      "source": [
        "3.5 피자 총판매량도 알아보겠습니다. quantity 컬럼에 적절한 함수를 적용하여 총판매량을 total_quantity변수에 저장해주고, 출력해주세요. (6점)"
      ]
    },
    {
      "cell_type": "code",
      "execution_count": 32,
      "metadata": {
        "id": "aVijsFW2yZwZ",
        "colab": {
          "base_uri": "https://localhost:8080/"
        },
        "outputId": "8113ea3a-eb68-4fb9-809c-cac693216a49"
      },
      "outputs": [
        {
          "output_type": "stream",
          "name": "stdout",
          "text": [
            "피자 총 판매량: 49574판\n"
          ]
        }
      ],
      "source": [
        "# quantity 합계 계산\n",
        "total_quantity = pizza_orders_df['quantity'].sum()\n",
        "\n",
        "# 결과 출력\n",
        "print(f\"피자 총 판매량: {total_quantity}판\")\n"
      ]
    },
    {
      "cell_type": "markdown",
      "metadata": {
        "id": "4TO_M9RwwWJW"
      },
      "source": [
        "3.6 이어서 한 주문에서 피자를 많으면 몇 판까지 시켰는지 파악해 보겠습니다. order_id 컬럼 기준으로 groupby 한 뒤 quantity 컬럼에 대해 sum() 함수를 쓰면 주문당 피자 개수를 구할 수 있습니다. 이어서 sort_values() 함수로 내림차순 정렬하면 피자를 많이 시킨 순서대로 결과를 볼 수 있습니다. 주문 아이디 18845가 최상단에 출력이 된다면 맞게 진행하신겂니다. (6점)"
      ]
    },
    {
      "cell_type": "code",
      "execution_count": 33,
      "metadata": {
        "id": "XIZYix2Myasj",
        "colab": {
          "base_uri": "https://localhost:8080/"
        },
        "outputId": "0c34d76a-6a71-4177-af19-7fd5169a3c7b"
      },
      "outputs": [
        {
          "output_type": "stream",
          "name": "stdout",
          "text": [
            "order_id\n",
            "18845    28\n",
            "10760    25\n",
            "18513    15\n",
            "21158    15\n",
            "20163    15\n",
            "Name: quantity, dtype: int64\n"
          ]
        }
      ],
      "source": [
        "# 주문당 피자 개수 합계 계산 후 내림차순 정렬\n",
        "max_pizzas_per_order = (\n",
        "    pizza_orders_df.groupby('order_id')['quantity'].sum()\n",
        "    .sort_values(ascending=False)\n",
        ")\n",
        "\n",
        "# 상위 5개 확인 (18845가 최상단인지 확인)\n",
        "print(max_pizzas_per_order.head())\n"
      ]
    },
    {
      "cell_type": "markdown",
      "metadata": {
        "id": "1WMzy2NYwuTo"
      },
      "source": [
        "3.7 마지막으로, 28판 시킨 주문이 어떤 주문이었는지 확인해보겠습니다. pizza_orders_df에서 order_id가 18845와 일지하는 행들만 출력해주세요. (6점)"
      ]
    },
    {
      "cell_type": "code",
      "execution_count": 34,
      "metadata": {
        "id": "vuvfQ6KhybmN",
        "colab": {
          "base_uri": "https://localhost:8080/"
        },
        "outputId": "c2403fff-c4b7-4df1-f379-7c4d120c7664"
      },
      "outputs": [
        {
          "output_type": "stream",
          "name": "stdout",
          "text": [
            "       order_id     order_timestamp  order_details_id         pizza_id  \\\n",
            "41491     18845 2023-11-18 21:10:53             41492        bbq_ckn_m   \n",
            "41492     18845 2023-11-18 21:10:53             41493       big_meat_l   \n",
            "41493     18845 2023-11-18 21:10:53             41494       big_meat_s   \n",
            "41494     18845 2023-11-18 21:10:53             41495        bulgogi_l   \n",
            "41495     18845 2023-11-18 21:10:53             41496    classic_dlx_m   \n",
            "41496     18845 2023-11-18 21:10:53             41497    classic_dlx_s   \n",
            "41497     18845 2023-11-18 21:10:53             41498   green_garden_m   \n",
            "41498     18845 2023-11-18 21:10:53             41499       hawaiian_l   \n",
            "41499     18845 2023-11-18 21:10:53             41500       hawaiian_m   \n",
            "41500     18845 2023-11-18 21:10:53             41501       hawaiian_s   \n",
            "41501     18845 2023-11-18 21:10:53             41502      pepperoni_m   \n",
            "41502     18845 2023-11-18 21:10:53             41503      pepperoni_s   \n",
            "41503     18845 2023-11-18 21:10:53             41504         potato_l   \n",
            "41504     18845 2023-11-18 21:10:53             41505         potato_m   \n",
            "41505     18845 2023-11-18 21:10:53             41506     spin_pesto_s   \n",
            "41506     18845 2023-11-18 21:10:53             41507  super_supreme_l   \n",
            "41507     18845 2023-11-18 21:10:53             41508  super_supreme_s   \n",
            "41508     18845 2023-11-18 21:10:53             41509       thai_ckn_l   \n",
            "41509     18845 2023-11-18 21:10:53             41510       thai_ckn_m   \n",
            "\n",
            "       quantity  pizza_name size  price  total_price category  \\\n",
            "41491         3   바비큐 치킨 피자    M  22000        66000       치킨   \n",
            "41492         1     빅 미트 피자    L  34000        34000      클래식   \n",
            "41493         2     빅 미트 피자    S  11300        22600      클래식   \n",
            "41494         1      불고기 피자    L  32300        32300      스페셜   \n",
            "41495         1  클래식 디럭스 피자    M  20300        20300      클래식   \n",
            "41496         1  클래식 디럭스 피자    S  10800        10800      클래식   \n",
            "41497         1    그린 가든 피자    M  21800        21800    베지테리언   \n",
            "41498         2     하와이안 피자    L  33800        67600      스페셜   \n",
            "41499         2     하와이안 피자    M  21800        43600      스페셜   \n",
            "41500         2     하와이안 피자    S  11000        22000      스페셜   \n",
            "41501         3     페퍼로니 피자    M  18300        54900      클래식   \n",
            "41502         1     페퍼로니 피자    S   9300         9300      클래식   \n",
            "41503         1     포테이토 피자    L  33800        33800      스페셜   \n",
            "41504         1     포테이토 피자    M  21800        21800      스페셜   \n",
            "41505         1  시금치 페스토 피자    S  13800        13800    베지테리언   \n",
            "41506         1   슈퍼 슈프림 피자    L  32300        32300      클래식   \n",
            "41507         1   슈퍼 슈프림 피자    S  10800        10800      클래식   \n",
            "41508         2    타이 치킨 피자    L  36800        73600       치킨   \n",
            "41509         1    타이 치킨 피자    M  24000        24000       치킨   \n",
            "\n",
            "                                ingredients  \n",
            "41491              치킨, 피망, 토마토, 적양파, 바비큐 소스  \n",
            "41492              베이컨, 토마토, 페퍼로니, 살라미, 초리조  \n",
            "41493              베이컨, 토마토, 페퍼로니, 살라미, 초리조  \n",
            "41494      불고기, 불고기 소스, 버섯, 양파, 피망, 모짜렐라 치즈  \n",
            "41495           토마토, 페퍼로니, 버섯, 적양파, 피망, 베이컨  \n",
            "41496           토마토, 페퍼로니, 버섯, 적양파, 피망, 베이컨  \n",
            "41497    가지, 아티초크, 토마토, 쥬키니, 피망, 마늘, 페스토 소스  \n",
            "41498               토마토, 베이컨, 파인애플, 모짜렐라 치즈  \n",
            "41499               토마토, 베이컨, 파인애플, 모짜렐라 치즈  \n",
            "41500               토마토, 베이컨, 파인애플, 모짜렐라 치즈  \n",
            "41501                    토마토, 모짜렐라 치즈, 페퍼로니  \n",
            "41502                    토마토, 모짜렐라 치즈, 페퍼로니  \n",
            "41503  모짜렐라 치즈, 토마토, 감자, 양파, 베이컨, 옥수수, 마요네즈  \n",
            "41504  모짜렐라 치즈, 토마토, 감자, 양파, 베이컨, 옥수수, 마요네즈  \n",
            "41505  시금치, 아티초크, 토마토, 썬드라이 토마토, 마늘, 페스토 소스  \n",
            "41506       페퍼로니, 토마토, 적양파, 그린 올리브, 옥수수, 마늘  \n",
            "41507       페퍼로니, 토마토, 적양파, 그린 올리브, 옥수수, 마늘  \n",
            "41508           치킨, 파인애플, 토마토, 피망, 타이 칠리 소스  \n",
            "41509           치킨, 파인애플, 토마토, 피망, 타이 칠리 소스  \n"
          ]
        }
      ],
      "source": [
        "# order_id가 18845인 행만 필터링\n",
        "order_18845 = pizza_orders_df[pizza_orders_df['order_id'] == 18845]\n",
        "\n",
        "# 결과 출력\n",
        "print(order_18845)\n"
      ]
    },
    {
      "cell_type": "markdown",
      "metadata": {
        "id": "BnaT0VCHzLFh"
      },
      "source": [
        "##END\n",
        "수고하셨습니다.\n",
        "\n",
        "다음 구글폼에 .ipynb 파일 형식으로 제출해주세요.\n",
        "https://docs.google.com/forms/d/1MeKTUtoUvWv64kRmD2yjMt8xvFF5Q1hcNeyPRs4nhlI/viewform\n",
        "\n",
        "앞으로 남은 면접도 잘 보시길 바랍니다!"
      ]
    }
  ],
  "metadata": {
    "colab": {
      "provenance": [],
      "include_colab_link": true
    },
    "kernelspec": {
      "display_name": "Python 3 (ipykernel)",
      "language": "python",
      "name": "python3"
    },
    "language_info": {
      "codemirror_mode": {
        "name": "ipython",
        "version": 3
      },
      "file_extension": ".py",
      "mimetype": "text/x-python",
      "name": "python",
      "nbconvert_exporter": "python",
      "pygments_lexer": "ipython3",
      "version": "3.12.4"
    }
  },
  "nbformat": 4,
  "nbformat_minor": 0
}