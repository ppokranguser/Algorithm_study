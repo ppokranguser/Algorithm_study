{
  "cells": [
    {
      "cell_type": "markdown",
      "metadata": {
        "id": "view-in-github",
        "colab_type": "text"
      },
      "source": [
        "<a href=\"https://colab.research.google.com/github/ppokranguser/Algorithm_study/blob/main/13%E1%84%80%E1%85%B5_%E1%84%8F%E1%85%A9%E1%84%90%E1%85%A6_%E1%84%86%E1%85%AE%E1%86%AB%E1%84%8C%E1%85%A6%E1%84%8C%E1%85%B5.ipynb\" target=\"_parent\"><img src=\"https://colab.research.google.com/assets/colab-badge.svg\" alt=\"Open In Colab\"/></a>"
      ]
    },
    {
      "cell_type": "markdown",
      "id": "032dae82",
      "metadata": {
        "id": "032dae82"
      },
      "source": [
        "## 13기 멤버 코딩 테스트\n",
        "반드시 .ipynb 파일 형식으로 저장후 아래의 구글폼으로 제출해 주세요!  \n",
        "https://docs.google.com/forms/d/e/1FAIpQLScIM03E7BAK5J15TH6jdclEQy5zXJM8C6OMCk-yMr7GewhxMw/viewform?usp=sf_link\n"
      ]
    },
    {
      "cell_type": "code",
      "execution_count": 3,
      "id": "102751b1",
      "metadata": {
        "id": "102751b1"
      },
      "outputs": [],
      "source": [
        "import pandas as pd\n",
        "import numpy as np\n",
        "import seaborn as sns\n",
        "import matplotlib.pyplot as plt"
      ]
    },
    {
      "cell_type": "markdown",
      "id": "8466bbcf",
      "metadata": {
        "id": "8466bbcf"
      },
      "source": [
        "## 문제 1 - 45 점"
      ]
    },
    {
      "cell_type": "markdown",
      "id": "2de4d041",
      "metadata": {
        "id": "2de4d041"
      },
      "source": [
        "### 문제 1- 1 (7점)\n",
        "#### 12과 18의 공약수의 곱을 구하는 코드를 작성해주세요.\n",
        "- Hint : for문을 이용해주세요"
      ]
    },
    {
      "cell_type": "code",
      "execution_count": 1,
      "id": "66f43821",
      "metadata": {
        "id": "66f43821",
        "colab": {
          "base_uri": "https://localhost:8080/"
        },
        "outputId": "f01bbf9b-b3e4-415e-a086-c78a5843f7bc"
      },
      "outputs": [
        {
          "output_type": "stream",
          "name": "stdout",
          "text": [
            "12와 18의 공약수의 곱: 36\n"
          ]
        }
      ],
      "source": [
        "# 공약수 구하기\n",
        "gcd_product = 1\n",
        "for i in range(1, min(12, 18) + 1):\n",
        "    if 12 % i == 0 and 18 % i == 0:\n",
        "        gcd_product *= i\n",
        "\n",
        "print(f\"12와 18의 공약수의 곱: {gcd_product}\")\n"
      ]
    },
    {
      "cell_type": "markdown",
      "id": "5d95abf9",
      "metadata": {
        "id": "5d95abf9"
      },
      "source": [
        "### 문제 1-2 (9점)\n",
        "#### 12과 18의 공배수 중 100보다 작은 공배수를 구하는 코드를 작성해주세요.\n",
        "- Hint : for문을 이용해 주세요"
      ]
    },
    {
      "cell_type": "code",
      "execution_count": 4,
      "id": "5fa267cc",
      "metadata": {
        "id": "5fa267cc",
        "colab": {
          "base_uri": "https://localhost:8080/"
        },
        "outputId": "fa5dda1b-40e3-4b2e-f45f-0eb37833acec"
      },
      "outputs": [
        {
          "output_type": "stream",
          "name": "stdout",
          "text": [
            "12와 18의 공배수 중 100보다 작은 값: [36, 72]\n"
          ]
        }
      ],
      "source": [
        "# 공배수 구하기\n",
        "common_multiples = []\n",
        "for i in range(1, 100):\n",
        "    if i % 12 == 0 and i % 18 == 0:\n",
        "        common_multiples.append(i)\n",
        "\n",
        "print(f\"12와 18의 공배수 중 100보다 작은 값: {common_multiples}\")\n"
      ]
    },
    {
      "cell_type": "markdown",
      "id": "675ccf13",
      "metadata": {
        "id": "675ccf13"
      },
      "source": [
        "### 문제 1-3 (6점)\n",
        "다음의 DataFrame 모양을 만들어 출력하세요.\n",
        "- Dataframe은 data로 저장해주세요  \n",
        "- NaN은 결측치입니다\n",
        "\n",
        "<출력 예시>   \n",
        "<img src=\"https://i.ibb.co/Pr6k01F/2-1.png\"  width=\"250\" height=\"110\"></img>\n",
        "\n"
      ]
    },
    {
      "cell_type": "code",
      "execution_count": 5,
      "id": "aff25218",
      "metadata": {
        "id": "aff25218",
        "colab": {
          "base_uri": "https://localhost:8080/"
        },
        "outputId": "4dd6aace-86f9-42e2-ac1e-c8f6c639d056"
      },
      "outputs": [
        {
          "output_type": "stream",
          "name": "stdout",
          "text": [
            "     연도     화력량    수력량  원자력량\n",
            "0  1990  1200.0  300.0   400\n",
            "1  1991  1300.0  400.0   500\n",
            "2  1992  1400.0    NaN   600\n",
            "3  1993     NaN  500.0   700\n"
          ]
        }
      ],
      "source": [
        "import pandas as pd\n",
        "import numpy as np\n",
        "\n",
        "# DataFrame 생성\n",
        "data = pd.DataFrame({\n",
        "    \"연도\": [1990, 1991, 1992, 1993],\n",
        "    \"화력량\": [1200, 1300, 1400, np.nan],\n",
        "    \"수력량\": [300, 400, np.nan, 500],\n",
        "    \"원자력량\": [400, 500, 600, 700]\n",
        "})\n",
        "\n",
        "print(data)\n"
      ]
    },
    {
      "cell_type": "markdown",
      "id": "a6eef1ae",
      "metadata": {
        "id": "a6eef1ae"
      },
      "source": [
        "### 문제 1-4 (7점)\n",
        "위에서 만들어진 data에서 결측값이 존재하는 열을 삭제하고 다시 data에 저장하세요.\n",
        "\n",
        "<출력 예시>   \n",
        "\n",
        "<img src=\"https://i.ibb.co/s9d2j5p/2-2.png\"  width=\"200\" height=\"110\"></img>\n"
      ]
    },
    {
      "cell_type": "code",
      "execution_count": 6,
      "id": "6dc0ec84",
      "metadata": {
        "id": "6dc0ec84",
        "colab": {
          "base_uri": "https://localhost:8080/"
        },
        "outputId": "97369531-6e1c-41fd-9bdf-a1fb148bc76b"
      },
      "outputs": [
        {
          "output_type": "stream",
          "name": "stdout",
          "text": [
            "     연도  원자력량\n",
            "0  1990   400\n",
            "1  1991   500\n",
            "2  1992   600\n",
            "3  1993   700\n"
          ]
        }
      ],
      "source": [
        "# 결측값이 존재하는 열 삭제\n",
        "data = data.dropna(axis=1)\n",
        "print(data)\n"
      ]
    },
    {
      "cell_type": "markdown",
      "id": "84573dae",
      "metadata": {
        "id": "84573dae"
      },
      "source": [
        "### 문제 1-5 (8점)\n",
        "data에서 3개의 발전량의 평균을 나타내는 '평균'열이 추가된 DataFrame data1을 출력해주세요.\n",
        "- 소수점 세번째 자리에서 반올림하여 두번째 자리까지만 나타내세요.\n",
        "- '평균' 열이 추가된 DataFrame을 data1에 저장하여 출력해주세요.\n",
        "\n",
        "\n",
        "<출력 예시>   \n",
        "<img src=\"https://i.ibb.co/47sNxXb/2-3.png\"  width=\"270\" height=\"110\"></img>"
      ]
    },
    {
      "cell_type": "code",
      "execution_count": 7,
      "id": "1ad57182",
      "metadata": {
        "id": "1ad57182",
        "colab": {
          "base_uri": "https://localhost:8080/"
        },
        "outputId": "2c758284-90dd-42b2-afcf-19b04a2fd5ae"
      },
      "outputs": [
        {
          "output_type": "stream",
          "name": "stdout",
          "text": [
            "     연도  원자력량      평균\n",
            "0  1990   400  1195.0\n",
            "1  1991   500  1245.5\n",
            "2  1992   600  1296.0\n",
            "3  1993   700  1346.5\n"
          ]
        }
      ],
      "source": [
        "# 평균 열 추가\n",
        "data1 = data.copy()\n",
        "data1[\"평균\"] = data1.mean(axis=1).round(2)\n",
        "print(data1)\n"
      ]
    },
    {
      "cell_type": "markdown",
      "id": "27086a66",
      "metadata": {
        "id": "27086a66"
      },
      "source": [
        "### 문제 1-6 (8점)\n",
        "data에서 1993년의 화력량을 1320으로 수정한 DataFrame data2의 평균을 다시 출력해주세요.\n",
        "- 1993년의 화력량을 1320으로 수정한 DataFrame을 data2에 저장해주세요\n",
        "- data2의 평균을 다시 구해주세요\n",
        "- 소수점 세번째 자리에서 반올림하여 두번째 자리까지만 나타내세요.\n",
        "\n",
        "\n",
        "<출력 예시>   \n",
        "\n",
        "<p align=\"center\">\n",
        "  <img src=\"https://i.ibb.co/GPqNVXX/2-4.png\"  width=\"270\" height=\"110\"></img>\n",
        "</p>"
      ]
    },
    {
      "cell_type": "code",
      "execution_count": 8,
      "id": "d3523f2d",
      "metadata": {
        "id": "d3523f2d",
        "colab": {
          "base_uri": "https://localhost:8080/"
        },
        "outputId": "86674d7e-15a6-44a6-a650-bd31c307688d"
      },
      "outputs": [
        {
          "output_type": "stream",
          "name": "stdout",
          "text": [
            "     연도  원자력량       평균     화력량\n",
            "0  1990   400  1195.00     NaN\n",
            "1  1991   500  1245.50     NaN\n",
            "2  1992   600  1296.00     NaN\n",
            "3  1993   700  1339.88  1320.0\n"
          ]
        }
      ],
      "source": [
        "# 특정 값 수정\n",
        "data2 = data1.copy()\n",
        "data2.loc[data2[\"연도\"] == 1993, \"화력량\"] = 1320\n",
        "\n",
        "# 평균 재계산\n",
        "data2[\"평균\"] = data2.mean(axis=1).round(2)\n",
        "print(data2)\n"
      ]
    },
    {
      "cell_type": "markdown",
      "id": "bab1596b",
      "metadata": {
        "id": "bab1596b"
      },
      "source": [
        "## 문제 2 - 55점"
      ]
    },
    {
      "cell_type": "markdown",
      "id": "ee6cbbf9",
      "metadata": {
        "id": "ee6cbbf9"
      },
      "source": [
        " #### heart 데이터 변수 설명\n",
        "- Age : Age of the patient\n",
        "- Sex : Sex of the patient (1= male, 0= female)\n",
        "- exang: exercise induced angina (1 = yes; 0 = no)\n",
        "- ca: number of major vessels (0-3)\n",
        "- cp : Chest Pain type chest pain type  \n",
        "Value 0: typical angina  \n",
        "Value 1: atypical angina  \n",
        "Value 2: non-anginal pain  \n",
        "Value 3: asymptomatic  \n",
        "- trtbps : resting blood pressure (in mm Hg)\n",
        "- chol : cholestoral in mg/dl fetched via BMI sensor\n",
        "- fbs : (fasting blood sugar > 120 mg/dl) (1 = true; 0 = false)\n",
        "- rest_ecg : resting electrocardiographic results  \n",
        "Value 0: normal  \n",
        "Value 1: having ST-T wave abnormality (T wave inversions and/or ST elevation or depression of > 0.05 mV)  \n",
        "Value 2: showing probable or definite left ventricular hypertrophy by Estes' criteria  \n",
        "- thalach : maximum heart rate achieved  \n",
        "- output : 0= less chance of heart attack 1= more chance of heart attack\n",
        "### 문제 2-1 (3점)\n",
        "\n",
        "heart.csv 파일을 불러오고 df 변수에 저장하여 마지막 아래 3개 행을 출력해주세요.\n",
        "\n",
        "<출력 예시>   \n",
        "\n",
        "<p align=\"center\">\n",
        "  <img src=\"https://i.postimg.cc/hPMQLnqF/3-1.png\"  width=\"700\" height=\"110\"></img>\n",
        "</p>"
      ]
    },
    {
      "cell_type": "code",
      "execution_count": 10,
      "id": "8da1b4a6",
      "metadata": {
        "id": "8da1b4a6",
        "colab": {
          "base_uri": "https://localhost:8080/"
        },
        "outputId": "2e9b2a9f-5224-4d2a-e4ff-9230986d1cf3"
      },
      "outputs": [
        {
          "output_type": "stream",
          "name": "stdout",
          "text": [
            "     age  sex  cp  trtbps  chol  fbs  restecg  thalachh  exng  oldpeak  slp  \\\n",
            "300   68    1   0     144   193    1      1.0       141     0      3.4  1.0   \n",
            "301   57    1   0     130   131    0      NaN       115     1      1.2  1.0   \n",
            "302   57    0   1     130   236    0      0.0       174     0      0.0  1.0   \n",
            "\n",
            "     caa  thall  output  \n",
            "300    2      3       0  \n",
            "301    1      3       0  \n",
            "302    1      2       0  \n"
          ]
        }
      ],
      "source": [
        "df = pd.read_csv(\"heart.csv\")\n",
        "print(df.tail(3))\n"
      ]
    },
    {
      "cell_type": "markdown",
      "id": "f02d3f15",
      "metadata": {
        "id": "f02d3f15"
      },
      "source": [
        "### 문제 2-2 (2점)\n",
        "다음과 같이 df의 변수 정보를 출력해 주세요.\n",
        "\n",
        "<출력 예시>   \n",
        "<img src=\"https://i.postimg.cc/0yB64CQc/3-2.png\"  width=\"300\" height=\"350\"></img>"
      ]
    },
    {
      "cell_type": "code",
      "execution_count": 11,
      "id": "4fe6c203",
      "metadata": {
        "id": "4fe6c203",
        "colab": {
          "base_uri": "https://localhost:8080/"
        },
        "outputId": "07f97a32-6e33-4807-93ff-dad991a38be9"
      },
      "outputs": [
        {
          "output_type": "stream",
          "name": "stdout",
          "text": [
            "<class 'pandas.core.frame.DataFrame'>\n",
            "RangeIndex: 303 entries, 0 to 302\n",
            "Data columns (total 14 columns):\n",
            " #   Column    Non-Null Count  Dtype  \n",
            "---  ------    --------------  -----  \n",
            " 0   age       303 non-null    int64  \n",
            " 1   sex       303 non-null    int64  \n",
            " 2   cp        303 non-null    int64  \n",
            " 3   trtbps    303 non-null    int64  \n",
            " 4   chol      303 non-null    int64  \n",
            " 5   fbs       303 non-null    int64  \n",
            " 6   restecg   292 non-null    float64\n",
            " 7   thalachh  303 non-null    int64  \n",
            " 8   exng      303 non-null    int64  \n",
            " 9   oldpeak   303 non-null    float64\n",
            " 10  slp       299 non-null    float64\n",
            " 11  caa       303 non-null    int64  \n",
            " 12  thall     303 non-null    int64  \n",
            " 13  output    303 non-null    int64  \n",
            "dtypes: float64(3), int64(11)\n",
            "memory usage: 33.3 KB\n",
            "None\n"
          ]
        }
      ],
      "source": [
        "print(df.info())\n"
      ]
    },
    {
      "cell_type": "markdown",
      "id": "8324b54b",
      "metadata": {
        "id": "8324b54b"
      },
      "source": [
        "### 문제 2-3 (5점)\n",
        "'cp' 열에 있는 모든 고윳값(unique value)의 개수를 출력해 주세요.\n",
        "\n",
        "<출력 예시>   \n",
        "\n",
        "  <img src=\"https://i.postimg.cc/nrpYL1qq/3-3.png\"  width=\"200\" height=\"120\"></img>\n"
      ]
    },
    {
      "cell_type": "code",
      "execution_count": 12,
      "id": "3ffb0ed6",
      "metadata": {
        "id": "3ffb0ed6",
        "colab": {
          "base_uri": "https://localhost:8080/"
        },
        "outputId": "aa7e7b0f-ea5d-4038-8226-39eab2b556d8"
      },
      "outputs": [
        {
          "output_type": "stream",
          "name": "stdout",
          "text": [
            "'cp' 열의 고유값 개수: 4\n"
          ]
        }
      ],
      "source": [
        "unique_values_cp = df[\"cp\"].nunique()\n",
        "print(f\"'cp' 열의 고유값 개수: {unique_values_cp}\")\n"
      ]
    },
    {
      "cell_type": "markdown",
      "id": "1a8f457e",
      "metadata": {
        "id": "1a8f457e"
      },
      "source": [
        "### 문제 2-4 (7점)\n",
        "'cp' 열의 고유값의 개수를 그래프로 시각화하여 나타내주세요.\n",
        "- seaborn(sns)를 이용해 주세요"
      ]
    },
    {
      "cell_type": "code",
      "execution_count": 13,
      "id": "b6619be6",
      "metadata": {
        "id": "b6619be6",
        "colab": {
          "base_uri": "https://localhost:8080/",
          "height": 662
        },
        "outputId": "7d301e74-8371-4f1a-cad1-56817fcdd75c"
      },
      "outputs": [
        {
          "output_type": "stream",
          "name": "stderr",
          "text": [
            "/usr/local/lib/python3.10/dist-packages/IPython/core/pylabtools.py:151: UserWarning: Glyph 44256 (\\N{HANGUL SYLLABLE GO}) missing from current font.\n",
            "  fig.canvas.print_figure(bytes_io, **kw)\n",
            "/usr/local/lib/python3.10/dist-packages/IPython/core/pylabtools.py:151: UserWarning: Glyph 50976 (\\N{HANGUL SYLLABLE YU}) missing from current font.\n",
            "  fig.canvas.print_figure(bytes_io, **kw)\n",
            "/usr/local/lib/python3.10/dist-packages/IPython/core/pylabtools.py:151: UserWarning: Glyph 44050 (\\N{HANGUL SYLLABLE GABS}) missing from current font.\n",
            "  fig.canvas.print_figure(bytes_io, **kw)\n",
            "/usr/local/lib/python3.10/dist-packages/IPython/core/pylabtools.py:151: UserWarning: Glyph 48516 (\\N{HANGUL SYLLABLE BUN}) missing from current font.\n",
            "  fig.canvas.print_figure(bytes_io, **kw)\n",
            "/usr/local/lib/python3.10/dist-packages/IPython/core/pylabtools.py:151: UserWarning: Glyph 54252 (\\N{HANGUL SYLLABLE PO}) missing from current font.\n",
            "  fig.canvas.print_figure(bytes_io, **kw)\n"
          ]
        },
        {
          "output_type": "display_data",
          "data": {
            "text/plain": [
              "<Figure size 640x480 with 1 Axes>"
            ],
            "image/png": "[encoded data removed]"
          },
          "metadata": {}
        }
      ],
      "source": [
        "import seaborn as sns\n",
        "import matplotlib.pyplot as plt\n",
        "\n",
        "sns.countplot(data=df, x=\"cp\")\n",
        "plt.title(\"'cp' 고유값 분포\")\n",
        "plt.show()\n"
      ]
    },
    {
      "cell_type": "markdown",
      "id": "efa3639c",
      "metadata": {
        "id": "efa3639c"
      },
      "source": [
        "### 문제 2-5 (6점)\n",
        "'age'가 57 이고 여자(sex=0)인 행들을 찾아 출력하세요"
      ]
    },
    {
      "cell_type": "code",
      "execution_count": 14,
      "id": "678b4e5e",
      "metadata": {
        "id": "678b4e5e",
        "colab": {
          "base_uri": "https://localhost:8080/"
        },
        "outputId": "fe4d57ba-9119-4178-8af3-f99a82a855dd"
      },
      "outputs": [
        {
          "output_type": "stream",
          "name": "stdout",
          "text": [
            "     age  sex  cp  trtbps  chol  fbs  restecg  thalachh  exng  oldpeak  slp  \\\n",
            "4     57    0   0     120   354    0      1.0       163     1      0.6  2.0   \n",
            "59    57    0   0     128   303    0      0.0       159     0      0.0  2.0   \n",
            "298   57    0   0     140   241    0      1.0       123     1      0.2  1.0   \n",
            "302   57    0   1     130   236    0      0.0       174     0      0.0  1.0   \n",
            "\n",
            "     caa  thall  output  \n",
            "4      0      2       1  \n",
            "59     1      2       1  \n",
            "298    0      3       0  \n",
            "302    1      2       0  \n"
          ]
        }
      ],
      "source": [
        "result = df[(df[\"age\"] == 57) & (df[\"sex\"] == 0)]\n",
        "print(result)\n"
      ]
    },
    {
      "cell_type": "markdown",
      "id": "673d703e",
      "metadata": {
        "id": "673d703e"
      },
      "source": [
        "### 문제 2-6 (8점)\n",
        "df에서 결측값이 존재하는지 확인해주세요.\n",
        "- 어떤 변수에서 몇개의 결측치가 존재하는지 출력해주세요.\n",
        "\n",
        "<출력 예시>   \n",
        "\n",
        "  <img src=\"https://i.postimg.cc/mgDzVnbP/3-5.png\"  width=\"150\" height=\"300\"></img>\n"
      ]
    },
    {
      "cell_type": "code",
      "execution_count": 15,
      "id": "01aaa8e3",
      "metadata": {
        "id": "01aaa8e3",
        "colab": {
          "base_uri": "https://localhost:8080/"
        },
        "outputId": "a9120898-6414-48bc-8af7-eab959cb806d"
      },
      "outputs": [
        {
          "output_type": "stream",
          "name": "stdout",
          "text": [
            "age          0\n",
            "sex          0\n",
            "cp           0\n",
            "trtbps       0\n",
            "chol         0\n",
            "fbs          0\n",
            "restecg     11\n",
            "thalachh     0\n",
            "exng         0\n",
            "oldpeak      0\n",
            "slp          4\n",
            "caa          0\n",
            "thall        0\n",
            "output       0\n",
            "dtype: int64\n"
          ]
        }
      ],
      "source": [
        "missing_values = df.isnull().sum()\n",
        "print(missing_values)\n"
      ]
    },
    {
      "cell_type": "markdown",
      "id": "44fc82e7",
      "metadata": {
        "id": "44fc82e7"
      },
      "source": [
        "### 문제 2-7 (12점)\n",
        "'restecg'가 0이면 'normal', 1이거나 결측값이면 'ST-T', 2이면 'LVH'를 의미하는 새로운 범주형 변수  'new_rest_ecg'열을 추가해주세요."
      ]
    },
    {
      "cell_type": "code",
      "execution_count": 16,
      "id": "e9ad2111",
      "metadata": {
        "id": "e9ad2111",
        "colab": {
          "base_uri": "https://localhost:8080/"
        },
        "outputId": "3c4b08b0-44bb-4504-9b3c-9c63eab4bb8d"
      },
      "outputs": [
        {
          "output_type": "stream",
          "name": "stdout",
          "text": [
            "   age  sex  cp  trtbps  chol  fbs  restecg  thalachh  exng  oldpeak  slp  \\\n",
            "0   63    1   3     145   233    1      0.0       150     0      2.3  0.0   \n",
            "1   37    1   2     130   250    0      1.0       187     0      3.5  0.0   \n",
            "2   41    0   1     130   204    0      0.0       172     0      1.4  2.0   \n",
            "3   56    1   1     120   236    0      1.0       178     0      0.8  2.0   \n",
            "4   57    0   0     120   354    0      1.0       163     1      0.6  2.0   \n",
            "\n",
            "   caa  thall  output new_rest_ecg  \n",
            "0    0      1       1       normal  \n",
            "1    0      2       1         ST-T  \n",
            "2    0      2       1       normal  \n",
            "3    0      2       1         ST-T  \n",
            "4    0      2       1         ST-T  \n"
          ]
        }
      ],
      "source": [
        "df[\"new_rest_ecg\"] = df[\"restecg\"].apply(\n",
        "    lambda x: \"normal\" if x == 0 else (\"ST-T\" if x == 1 or pd.isnull(x) else \"LVH\")\n",
        ")\n",
        "print(df.head())\n"
      ]
    },
    {
      "cell_type": "markdown",
      "id": "8746dd81",
      "metadata": {
        "id": "8746dd81"
      },
      "source": [
        "### 문제 2-8 (12점)\n",
        "수치형 변수들에 대해서만 다음과 같이 히스토그램으로 시각화 해주세요\n",
        "- 'age', 'trtbps', 'chol', 'thalachh'변수들만 히스토그램으로 시각화 해주세요.\n",
        "- bins =25, figsize = (20,10)로 설정해 주세요\n",
        "\n",
        "<출력 예시>   \n",
        "\n",
        "<p align=\"center\">\n",
        "  <img src=\"https://i.postimg.cc/vmx1w6xM/3-13.png\"  width=\"600\" height=\"300\"></img>\n",
        "</p>"
      ]
    },
    {
      "cell_type": "code",
      "execution_count": 18,
      "id": "4d83de73",
      "metadata": {
        "id": "4d83de73",
        "colab": {
          "base_uri": "https://localhost:8080/",
          "height": 548
        },
        "outputId": "45386db9-341c-496c-9d39-99b53c854328"
      },
      "outputs": [
        {
          "output_type": "display_data",
          "data": {
            "text/plain": [
              "<Figure size 2000x1000 with 4 Axes>"
            ],
            "image/png": "[encoded data removed]"
          },
          "metadata": {}
        }
      ],
      "source": [
        "numeric_columns = [\"age\", \"trtbps\", \"chol\", \"thalachh\"]\n",
        "df[numeric_columns].hist(bins=25, figsize=(20, 10))\n",
        "plt.show()\n"
      ]
    },
    {
      "cell_type": "markdown",
      "id": "8163e5be",
      "metadata": {
        "id": "8163e5be"
      },
      "source": [
        "## 문제 3\n",
        "위에 전처리한 데이터를 이용하여 본인의 판단 하에 output을 분류하는 모델링을 진행하고 성능을 평가해주세요.\n",
        "- 추가적인 전처리는 자유입니다\n",
        "- target 변수는 output 입니다.\n"
      ]
    },
    {
      "cell_type": "code",
      "execution_count": 19,
      "id": "14851c21",
      "metadata": {
        "id": "14851c21",
        "colab": {
          "base_uri": "https://localhost:8080/"
        },
        "outputId": "10563770-d70b-4f8d-be7a-07ed2e10863e"
      },
      "outputs": [
        {
          "output_type": "stream",
          "name": "stdout",
          "text": [
            "              precision    recall  f1-score   support\n",
            "\n",
            "           0       0.87      0.87      0.87        30\n",
            "           1       0.86      0.86      0.86        28\n",
            "\n",
            "    accuracy                           0.86        58\n",
            "   macro avg       0.86      0.86      0.86        58\n",
            "weighted avg       0.86      0.86      0.86        58\n",
            "\n"
          ]
        }
      ],
      "source": [
        "# 가이드라인\n",
        "## 범주형 변수를 원핫인코딩을 수행해주세요.\n",
        "## 데이터를 train, test로 분할해주세요\n",
        "## train data를 이용하여 모델을 학습시켜주세요\n",
        "## test data를 이용하여 모델의 성능을 평가해주세요\n",
        "\n",
        "from sklearn.model_selection import train_test_split\n",
        "from sklearn.ensemble import RandomForestClassifier\n",
        "from sklearn.metrics import classification_report\n",
        "\n",
        "# 원-핫 인코딩\n",
        "df_encoded = pd.get_dummies(df, columns=[\"cp\", \"new_rest_ecg\"], drop_first=True)\n",
        "\n",
        "# 결측값 제거\n",
        "df_encoded = df_encoded.dropna()\n",
        "\n",
        "# 데이터 분리\n",
        "X = df_encoded.drop(columns=[\"output\"])\n",
        "y = df_encoded[\"output\"]\n",
        "X_train, X_test, y_train, y_test = train_test_split(X, y, test_size=0.2, random_state=42)\n",
        "\n",
        "# 모델 학습\n",
        "model = RandomForestClassifier(random_state=42)\n",
        "model.fit(X_train, y_train)\n",
        "\n",
        "# 예측 및 평가\n",
        "y_pred = model.predict(X_test)\n",
        "print(classification_report(y_test, y_pred))\n"
      ]
    },
    {
      "cell_type": "markdown",
      "id": "3e55354b",
      "metadata": {
        "id": "3e55354b"
      },
      "source": [
        "## END  \n",
        "수고하셨습니다.\n",
        "\n",
        "다음 구글폼에 .ipynb 파일 형식으로 제출해주세요.   \n",
        "https://docs.google.com/forms/d/e/1FAIpQLScIM03E7BAK5J15TH6jdclEQy5zXJM8C6OMCk-yMr7GewhxMw/viewform?usp=sf_link\n",
        "\n",
        "좋은 결과 있기를 바라며  \n",
        "코딩 테스트는 절대적 평가기준이 아닙니다."
      ]
    }
  ],
  "metadata": {
    "colab": {
      "provenance": [],
      "include_colab_link": true
    },
    "kernelspec": {
      "display_name": "Python 3 (ipykernel)",
      "language": "python",
      "name": "python3"
    },
    "language_info": {
      "codemirror_mode": {
        "name": "ipython",
        "version": 3
      },
      "file_extension": ".py",
      "mimetype": "text/x-python",
      "name": "python",
      "nbconvert_exporter": "python",
      "pygments_lexer": "ipython3",
      "version": "3.11.5"
    }
  },
  "nbformat": 4,
  "nbformat_minor": 5
}