{
  "cells": [
    {
      "cell_type": "markdown",
      "metadata": {
        "id": "view-in-github",
        "colab_type": "text"
      },
      "source": [
        "<a href=\"https://colab.research.google.com/github/ppokranguser/Algorithm_study/blob/main/10%E1%84%80%E1%85%B5_%E1%84%8F%E1%85%A9%E1%84%90%E1%85%A6_%E1%84%86%E1%85%AE%E1%86%AB%E1%84%8C%E1%85%A6%E1%84%8C%E1%85%B5.ipynb\" target=\"_parent\"><img src=\"https://colab.research.google.com/assets/colab-badge.svg\" alt=\"Open In Colab\"/></a>"
      ]
    },
    {
      "cell_type": "markdown",
      "id": "fddd1782-2727-4e6c-868f-c952d31aed6a",
      "metadata": {
        "id": "fddd1782-2727-4e6c-868f-c952d31aed6a"
      },
      "source": [
        "## **아래 코드를 실행시키고 문제에 답하시오.**"
      ]
    },
    {
      "cell_type": "code",
      "execution_count": 4,
      "id": "481a3feb",
      "metadata": {
        "id": "481a3feb"
      },
      "outputs": [],
      "source": [
        "import pandas as pd\n",
        "import numpy as np\n",
        "import seaborn as sns\n",
        "import matplotlib.pyplot as plt"
      ]
    },
    {
      "cell_type": "markdown",
      "id": "4864dd06",
      "metadata": {
        "id": "4864dd06"
      },
      "source": [
        "# 문제1 - 10점"
      ]
    },
    {
      "cell_type": "markdown",
      "id": "ec7b7542",
      "metadata": {
        "id": "ec7b7542"
      },
      "source": [
        "* 수학, 영어 점수의 평균을 구하고, 점수가 높은 순서대로 정렬한 후 결과값으로 **점수가 높은 5명의 점수를 출력**하세요.\n",
        "\n",
        "* 리스트 순서대로 학생 한 명의 점수입니다.\n",
        "* hint: for문 사용"
      ]
    },
    {
      "cell_type": "code",
      "execution_count": 1,
      "id": "68877a16",
      "metadata": {
        "id": "68877a16",
        "colab": {
          "base_uri": "https://localhost:8080/"
        },
        "outputId": "227ce79f-a8f7-456a-93cb-27b83836b086"
      },
      "outputs": [
        {
          "output_type": "stream",
          "name": "stdout",
          "text": [
            "상위 5명의 평균 점수: [(4, 97.5), (8, 92.0), (2, 90.0), (0, 87.5), (5, 87.5)]\n"
          ]
        }
      ],
      "source": [
        "# 학생 점수 리스트 (수학, 영어)\n",
        "scores = [\n",
        "    (90, 85),\n",
        "    (80, 75),\n",
        "    (88, 92),\n",
        "    (70, 60),\n",
        "    (95, 100),\n",
        "    (85, 90),\n",
        "    (78, 88),\n",
        "    (82, 77),\n",
        "    (91, 93),\n",
        "    (85, 87)\n",
        "]\n",
        "\n",
        "# 평균 점수 계산\n",
        "average_scores = [(i, (math + english) / 2) for i, (math, english) in enumerate(scores)]\n",
        "\n",
        "# 평균 점수로 정렬\n",
        "sorted_scores = sorted(average_scores, key=lambda x: x[1], reverse=True)\n",
        "\n",
        "# 상위 5명의 점수 출력\n",
        "top_5_scores = sorted_scores[:5]\n",
        "print(f\"상위 5명의 평균 점수: {top_5_scores}\")\n"
      ]
    },
    {
      "cell_type": "markdown",
      "id": "387c6dd8",
      "metadata": {
        "id": "387c6dd8"
      },
      "source": [
        "# 문제2 -15점"
      ]
    },
    {
      "cell_type": "markdown",
      "id": "7f52ef8c",
      "metadata": {
        "id": "7f52ef8c"
      },
      "source": [
        "* 다음은 2022년 7월 26일 오후 2시 기준, 원화 환율입니다.\n",
        "  (미국:1309.70$, 유럽연합:1339.30€, 중국:193.84¥, 영국:1579.96£)\n",
        "* 환전하려는 금액을 입력 받고, 나라를 입력 받아서 환율을 **소수점 2자리**로 출력하세요.\n",
        "* Hint: 환전 금액과 나라 입력 시 input 함수를, 국가별 환율 계산에는 조건문을 사용하세요.\n",
        "\n",
        "<답안 예시>\n",
        "\n",
        "환전 금액(원화):8000\n",
        "\n",
        "국가 선택(미국/유럽연합/중국/영국):미국\n",
        "\n",
        "6.11\n"
      ]
    },
    {
      "cell_type": "code",
      "execution_count": 2,
      "id": "37f83cda",
      "metadata": {
        "id": "37f83cda",
        "colab": {
          "base_uri": "https://localhost:8080/"
        },
        "outputId": "a8e9c299-c741-472b-fee4-e0c2111aed9b"
      },
      "outputs": [
        {
          "output_type": "stream",
          "name": "stdout",
          "text": [
            "환전 금액(원화): 3000\n",
            "국가 선택(미국/유럽연합/중국/영국): 미국\n",
            "환전 금액: 2.29\n"
          ]
        }
      ],
      "source": [
        "# 환율 데이터\n",
        "exchange_rates = {\n",
        "    \"미국\": 1309.70,\n",
        "    \"유럽연합\": 1339.30,\n",
        "    \"중국\": 193.84,\n",
        "    \"영국\": 1579.96\n",
        "}\n",
        "\n",
        "# 사용자 입력\n",
        "amount = float(input(\"환전 금액(원화): \"))\n",
        "country = input(\"국가 선택(미국/유럽연합/중국/영국): \")\n",
        "\n",
        "# 환전 계산 및 출력\n",
        "if country in exchange_rates:\n",
        "    exchanged_amount = amount / exchange_rates[country]\n",
        "    print(f\"환전 금액: {exchanged_amount:.2f}\")\n",
        "else:\n",
        "    print(\"잘못된 국가 입력입니다.\")\n"
      ]
    },
    {
      "cell_type": "markdown",
      "id": "14a312ab",
      "metadata": {
        "id": "14a312ab"
      },
      "source": [
        "# 문제3 - 25점"
      ]
    },
    {
      "cell_type": "markdown",
      "id": "04a95cfb",
      "metadata": {
        "id": "04a95cfb"
      },
      "source": [
        "### 문제 [3-1] - 3점\n",
        "\n",
        "midwest.csv를 불러와 midwest에 저장하고, 위에서부터 10행까지 출력하시오."
      ]
    },
    {
      "cell_type": "code",
      "execution_count": 5,
      "id": "3856533a",
      "metadata": {
        "id": "3856533a",
        "colab": {
          "base_uri": "https://localhost:8080/"
        },
        "outputId": "deaeca7d-2b12-46fd-fd04-071fccd94849"
      },
      "outputs": [
        {
          "output_type": "stream",
          "name": "stdout",
          "text": [
            "   PID     county state   area  poptotal   popdensity  popwhite  popblack  \\\n",
            "0  561      ADAMS    IL  0.052     66090  1270.961540     63917      1702   \n",
            "1  562  ALEXANDER    IL  0.014     10626   759.000000      7054      3496   \n",
            "2  563       BOND    IL  0.022     14991   681.409091     14477       429   \n",
            "3  564      BOONE    IL  0.017     30806  1812.117650     29344       127   \n",
            "4  565      BROWN    IL  0.018      5836   324.222222      5264       547   \n",
            "5  566     BUREAU    IL  0.050     35688   713.760000     35157        50   \n",
            "6  567    CALHOUN    IL  0.017      5322   313.058824      5298         1   \n",
            "7  568    CARROLL    IL  0.027     16805   622.407407     16519       111   \n",
            "8  569       CASS    IL  0.024     13437   559.875000     13384        16   \n",
            "9  570  CHAMPAIGN    IL  0.058    173025  2983.189660    146506     16559   \n",
            "\n",
            "   popamerindian  popasian  ...  percollege   percprof  poppovertyknown  \\\n",
            "0             98       249  ...   19.631392   4.355859            63628   \n",
            "1             19        48  ...   11.243308   2.870315            10529   \n",
            "2             35        16  ...   17.033819   4.488572            14235   \n",
            "3             46       150  ...   17.278954   4.197800            30337   \n",
            "4             14         5  ...   14.475999   3.367680             4815   \n",
            "5             65       195  ...   18.904624   3.275891            35107   \n",
            "6              8        15  ...   11.917388   3.209601             5241   \n",
            "7             30        61  ...   16.197121   3.055727            16455   \n",
            "8              8        23  ...   14.107649   3.206799            13081   \n",
            "9            331      8033  ...   41.295808  17.757448           154934   \n",
            "\n",
            "   percpovertyknown  percbelowpoverty  percchildbelowpovert  percadultpoverty  \\\n",
            "0         96.274777         13.151443             18.011717         11.009776   \n",
            "1         99.087145         32.244278             45.826514         27.385647   \n",
            "2         94.956974         12.068844             14.036061         10.852090   \n",
            "3         98.477569          7.209019             11.179536          5.536013   \n",
            "4         82.505140         13.520249             13.022889         11.143211   \n",
            "5         98.372002         10.399635             14.158819          8.179287   \n",
            "6         98.478016         15.149781             13.787761         12.932331   \n",
            "7         97.917287         11.710726             17.225462         10.027037   \n",
            "8         97.350599         13.875086             17.994784         11.914343   \n",
            "9         89.544286         15.572437             14.132234         17.562728   \n",
            "\n",
            "   percelderlypoverty  inmetro  category  \n",
            "0           12.443812        0       AAR  \n",
            "1           25.228976        0       LHR  \n",
            "2           12.697410        0       AAR  \n",
            "3            6.217047        1       ALU  \n",
            "4           19.200000        0       AAR  \n",
            "5           11.008586        0       AAR  \n",
            "6           21.085271        0       LAR  \n",
            "7            9.525052        0       AAR  \n",
            "8           13.660180        0       AAR  \n",
            "9            8.105017        1       HAU  \n",
            "\n",
            "[10 rows x 28 columns]\n"
          ]
        }
      ],
      "source": [
        "# 데이터 불러오기\n",
        "midwest = pd.read_csv(\"midwest.csv\")\n",
        "\n",
        "# 상위 10행 출력\n",
        "print(midwest.head(10))\n"
      ]
    },
    {
      "cell_type": "markdown",
      "id": "fc0834cd",
      "metadata": {
        "id": "fc0834cd"
      },
      "source": [
        "### 문제 [3-2] - 7점\n",
        "\n",
        "* popwhite는 해당 지역의 아시아인 인구, poptotal은 해당 지역의 전체 인구를 나타냅니다.\n",
        "\n",
        "* midwest 데이터에 '전체 인구 대비 아시아인 인구 백분율' 변수인 percent 열을 추가하세요."
      ]
    },
    {
      "cell_type": "code",
      "execution_count": 6,
      "id": "96f60d4a",
      "metadata": {
        "id": "96f60d4a",
        "colab": {
          "base_uri": "https://localhost:8080/"
        },
        "outputId": "b25e513a-7928-4588-f785-ca0e3d1b2502"
      },
      "outputs": [
        {
          "output_type": "stream",
          "name": "stdout",
          "text": [
            "   PID     county state   area  poptotal   popdensity  popwhite  popblack  \\\n",
            "0  561      ADAMS    IL  0.052     66090  1270.961540     63917      1702   \n",
            "1  562  ALEXANDER    IL  0.014     10626   759.000000      7054      3496   \n",
            "2  563       BOND    IL  0.022     14991   681.409091     14477       429   \n",
            "3  564      BOONE    IL  0.017     30806  1812.117650     29344       127   \n",
            "4  565      BROWN    IL  0.018      5836   324.222222      5264       547   \n",
            "\n",
            "   popamerindian  popasian  ...  percprof  poppovertyknown  percpovertyknown  \\\n",
            "0             98       249  ...  4.355859            63628         96.274777   \n",
            "1             19        48  ...  2.870315            10529         99.087145   \n",
            "2             35        16  ...  4.488572            14235         94.956974   \n",
            "3             46       150  ...  4.197800            30337         98.477569   \n",
            "4             14         5  ...  3.367680             4815         82.505140   \n",
            "\n",
            "   percbelowpoverty  percchildbelowpovert  percadultpoverty  \\\n",
            "0         13.151443             18.011717         11.009776   \n",
            "1         32.244278             45.826514         27.385647   \n",
            "2         12.068844             14.036061         10.852090   \n",
            "3          7.209019             11.179536          5.536013   \n",
            "4         13.520249             13.022889         11.143211   \n",
            "\n",
            "   percelderlypoverty  inmetro  category   percent  \n",
            "0           12.443812        0       AAR  0.376759  \n",
            "1           25.228976        0       LHR  0.451722  \n",
            "2           12.697410        0       AAR  0.106731  \n",
            "3            6.217047        1       ALU  0.486918  \n",
            "4           19.200000        0       AAR  0.085675  \n",
            "\n",
            "[5 rows x 29 columns]\n"
          ]
        }
      ],
      "source": [
        "# percent 열 추가\n",
        "midwest[\"percent\"] = (midwest[\"popasian\"] / midwest[\"poptotal\"]) * 100\n",
        "\n",
        "# 출력\n",
        "print(midwest.head())\n"
      ]
    },
    {
      "cell_type": "markdown",
      "id": "f42cd8ce",
      "metadata": {
        "id": "f42cd8ce"
      },
      "source": [
        "### 문제 [3-3] - 3점\n",
        "\n",
        "* percent 열의 값을 내림차순으로 정렬하세요."
      ]
    },
    {
      "cell_type": "code",
      "execution_count": 7,
      "id": "01178afb",
      "metadata": {
        "id": "01178afb",
        "colab": {
          "base_uri": "https://localhost:8080/"
        },
        "outputId": "2b648a5f-3af8-4ebb-b945-17e7d1a46683"
      },
      "outputs": [
        {
          "output_type": "stream",
          "name": "stdout",
          "text": [
            "      PID      county state   area  poptotal    popdensity  popwhite  \\\n",
            "21    582     DU PAGE    IL  0.020    781666  39083.300000    714905   \n",
            "9     570   CHAMPAIGN    IL  0.058    173025   2983.189660    146506   \n",
            "274  1277   WASHTENAW    MI  0.041    282937   6900.902440    236390   \n",
            "15    576        COOK    IL  0.058   5105067  88018.396600   3204947   \n",
            "180   741  TIPPECANOE    IN  0.030    130598   4353.266670    122013   \n",
            "..    ...         ...   ...    ...       ...           ...       ...   \n",
            "390  3006        IRON    WI  0.047      6153    130.914894      6121   \n",
            "358  2090      VINTON    OH  0.024     11098    462.416667     11071   \n",
            "109   670     CARROLL    IN  0.022     18809    854.954545     18720   \n",
            "105   666      BENTON    IN  0.024      9441    393.375000      9389   \n",
            "404  3020   MENOMINEE    WI  0.021      3890    185.238095       416   \n",
            "\n",
            "     popblack  popamerindian  popasian  ...   percprof  poppovertyknown  \\\n",
            "21      15462            962     39634  ...  11.963266           771641   \n",
            "9       16559            331      8033  ...  17.757448           154934   \n",
            "274     31720           1076     11724  ...  20.791321           261261   \n",
            "15    1317147          10289    188565  ...   8.329964          5023523   \n",
            "180      2660            320      4821  ...  15.257130           114062   \n",
            "..        ...            ...       ...  ...        ...              ...   \n",
            "390         1             25         2  ...   2.675961             6021   \n",
            "358         4             16         3  ...   1.565417            10937   \n",
            "109        19             22         3  ...   3.798709            18498   \n",
            "105         6             16         1  ...   4.014538             9300   \n",
            "404         0           3469         0  ...   0.520291             3820   \n",
            "\n",
            "     percpovertyknown  percbelowpoverty  percchildbelowpovert  \\\n",
            "21          98.717483          2.714734              2.945252   \n",
            "9           89.544286         15.572437             14.132234   \n",
            "274         92.338931         12.162933             10.797816   \n",
            "15          98.402685         14.198303             22.293497   \n",
            "180         87.338244         14.381652             10.567515   \n",
            "..                ...               ...                   ...   \n",
            "390         97.854705         13.070918             15.646785   \n",
            "358         98.549288         23.607936             31.770833   \n",
            "109         98.346536          7.492702              9.383269   \n",
            "105         98.506514          8.043011              8.349218   \n",
            "404         98.200514         48.691099             64.308477   \n",
            "\n",
            "     percadultpoverty  percelderlypoverty  inmetro  category   percent  \n",
            "21           2.399064            3.838249        1       HLU  5.070452  \n",
            "9           17.562728            8.105017        1       HAU  4.642682  \n",
            "274         13.455456            7.174777        1       HAU  4.143679  \n",
            "15          11.665542           10.825269        1       AAU  3.693683  \n",
            "180         17.188413            7.864945        1       HAU  3.691481  \n",
            "..                ...                 ...      ...       ...       ...  \n",
            "390         12.179042           12.662338        0       AAR  0.032504  \n",
            "358         22.225975           14.917696        0       LHR  0.027032  \n",
            "109          5.639806           10.183066        0       AAR  0.015950  \n",
            "105          6.842329           10.502283        0       AAR  0.010592  \n",
            "404         43.312464           18.218623        0       LHR  0.000000  \n",
            "\n",
            "[437 rows x 29 columns]\n"
          ]
        }
      ],
      "source": [
        "# percent 열 정렬\n",
        "midwest_sorted = midwest.sort_values(\"percent\", ascending=False)\n",
        "\n",
        "# 출력\n",
        "print(midwest_sorted)\n"
      ]
    },
    {
      "cell_type": "markdown",
      "id": "0112b6e0",
      "metadata": {
        "id": "0112b6e0"
      },
      "source": [
        "### 문제 [3-4] - 6점\n",
        "\n",
        "* percent를 아래의 분류 기준에 따라 새로운 변수를 추가해주시고, 각 분류에 해당하는 지역이 몇 개인지 확인해보시오.\n",
        "\n",
        "* large: 0.9% 이상 / middle: 0.4~0.9% 미만 / small: 0.4% 미만"
      ]
    },
    {
      "cell_type": "code",
      "execution_count": 8,
      "id": "3ede31ee",
      "metadata": {
        "id": "3ede31ee",
        "colab": {
          "base_uri": "https://localhost:8080/"
        },
        "outputId": "84b7fdae-550c-487a-b08d-95461e37b640"
      },
      "outputs": [
        {
          "output_type": "stream",
          "name": "stdout",
          "text": [
            "category\n",
            "small     288\n",
            "middle     96\n",
            "large      53\n",
            "Name: count, dtype: int64\n"
          ]
        }
      ],
      "source": [
        "# 분류 기준 함수\n",
        "def classify_percent(value):\n",
        "    if value >= 0.9:\n",
        "        return \"large\"\n",
        "    elif value >= 0.4:\n",
        "        return \"middle\"\n",
        "    else:\n",
        "        return \"small\"\n",
        "\n",
        "# 분류 열 추가\n",
        "midwest[\"category\"] = midwest[\"percent\"].apply(classify_percent)\n",
        "\n",
        "# 각 분류 개수 출력\n",
        "print(midwest[\"category\"].value_counts())\n"
      ]
    },
    {
      "cell_type": "markdown",
      "id": "a354da3c",
      "metadata": {
        "id": "a354da3c"
      },
      "source": [
        "### 문제 [3-5] - 6점\n",
        "\n",
        "* county가 'SCOTT'인 경우와 county가 'PIATT'인 경우의 poptotal 열의 평균을 각각 구해서 출력하세요.\n",
        "\n",
        "* hint: query 함수와 mean 함수 사용"
      ]
    },
    {
      "cell_type": "code",
      "execution_count": 9,
      "id": "99111ed9",
      "metadata": {
        "id": "99111ed9",
        "colab": {
          "base_uri": "https://localhost:8080/"
        },
        "outputId": "def5df18-98b4-46bd-9e91-170a7f9bbf49"
      },
      "outputs": [
        {
          "output_type": "stream",
          "name": "stdout",
          "text": [
            "SCOTT 평균: 13317.5\n",
            "PIATT 평균: 15548.0\n"
          ]
        }
      ],
      "source": [
        "# 특정 지역 평균\n",
        "scott_mean = midwest.query(\"county == 'SCOTT'\")[\"poptotal\"].mean()\n",
        "piatt_mean = midwest.query(\"county == 'PIATT'\")[\"poptotal\"].mean()\n",
        "\n",
        "# 출력\n",
        "print(f\"SCOTT 평균: {scott_mean}\")\n",
        "print(f\"PIATT 평균: {piatt_mean}\")\n"
      ]
    },
    {
      "cell_type": "markdown",
      "id": "33735826",
      "metadata": {
        "id": "33735826"
      },
      "source": [
        "# 문제4 - 50점"
      ]
    },
    {
      "cell_type": "markdown",
      "id": "38491754",
      "metadata": {
        "id": "38491754"
      },
      "source": [
        "다음 데이터를 사용하여 각 문항에 답하세요."
      ]
    },
    {
      "cell_type": "code",
      "execution_count": 10,
      "id": "115046b9",
      "metadata": {
        "id": "115046b9",
        "colab": {
          "base_uri": "https://localhost:8080/",
          "height": 224
        },
        "outputId": "9f715903-a98c-4b7c-b58f-c2db9e6189e2"
      },
      "outputs": [
        {
          "output_type": "execute_result",
          "data": {
            "text/plain": [
              "   survived  pclass     sex   age  sibsp  parch     fare embarked  class  \\\n",
              "0         0       3    male  22.0      1      0   7.2500        S  Third   \n",
              "1         1       1  female  38.0      1      0  71.2833        C  First   \n",
              "2         1       3  female  26.0      0      0   7.9250        S  Third   \n",
              "3         1       1  female  35.0      1      0  53.1000        S  First   \n",
              "4         0       3    male  35.0      0      0   8.0500        S  Third   \n",
              "\n",
              "     who  adult_male deck  embark_town alive  alone  \n",
              "0    man        True  NaN  Southampton    no  False  \n",
              "1  woman       False    C    Cherbourg   yes  False  \n",
              "2  woman       False  NaN  Southampton   yes   True  \n",
              "3  woman       False    C  Southampton   yes  False  \n",
              "4    man        True  NaN  Southampton    no   True  "
            ],
            "text/html": [
              "\n",
              "  <div id=\"df-3d00ec41-97a2-497a-8cea-99eb6f83b5c0\" class=\"colab-df-container\">\n",
              "    <div>\n",
              "<style scoped>\n",
              "    .dataframe tbody tr th:only-of-type {\n",
              "        vertical-align: middle;\n",
              "    }\n",
              "\n",
              "    .dataframe tbody tr th {\n",
              "        vertical-align: top;\n",
              "    }\n",
              "\n",
              "    .dataframe thead th {\n",
              "        text-align: right;\n",
              "    }\n",
              "</style>\n",
              "<table border=\"1\" class=\"dataframe\">\n",
              "  <thead>\n",
              "    <tr style=\"text-align: right;\">\n",
              "      <th></th>\n",
              "      <th>survived</th>\n",
              "      <th>pclass</th>\n",
              "      <th>sex</th>\n",
              "      <th>age</th>\n",
              "      <th>sibsp</th>\n",
              "      <th>parch</th>\n",
              "      <th>fare</th>\n",
              "      <th>embarked</th>\n",
              "      <th>class</th>\n",
              "      <th>who</th>\n",
              "      <th>adult_male</th>\n",
              "      <th>deck</th>\n",
              "      <th>embark_town</th>\n",
              "      <th>alive</th>\n",
              "      <th>alone</th>\n",
              "    </tr>\n",
              "  </thead>\n",
              "  <tbody>\n",
              "    <tr>\n",
              "      <th>0</th>\n",
              "      <td>0</td>\n",
              "      <td>3</td>\n",
              "      <td>male</td>\n",
              "      <td>22.0</td>\n",
              "      <td>1</td>\n",
              "      <td>0</td>\n",
              "      <td>7.2500</td>\n",
              "      <td>S</td>\n",
              "      <td>Third</td>\n",
              "      <td>man</td>\n",
              "      <td>True</td>\n",
              "      <td>NaN</td>\n",
              "      <td>Southampton</td>\n",
              "      <td>no</td>\n",
              "      <td>False</td>\n",
              "    </tr>\n",
              "    <tr>\n",
              "      <th>1</th>\n",
              "      <td>1</td>\n",
              "      <td>1</td>\n",
              "      <td>female</td>\n",
              "      <td>38.0</td>\n",
              "      <td>1</td>\n",
              "      <td>0</td>\n",
              "      <td>71.2833</td>\n",
              "      <td>C</td>\n",
              "      <td>First</td>\n",
              "      <td>woman</td>\n",
              "      <td>False</td>\n",
              "      <td>C</td>\n",
              "      <td>Cherbourg</td>\n",
              "      <td>yes</td>\n",
              "      <td>False</td>\n",
              "    </tr>\n",
              "    <tr>\n",
              "      <th>2</th>\n",
              "      <td>1</td>\n",
              "      <td>3</td>\n",
              "      <td>female</td>\n",
              "      <td>26.0</td>\n",
              "      <td>0</td>\n",
              "      <td>0</td>\n",
              "      <td>7.9250</td>\n",
              "      <td>S</td>\n",
              "      <td>Third</td>\n",
              "      <td>woman</td>\n",
              "      <td>False</td>\n",
              "      <td>NaN</td>\n",
              "      <td>Southampton</td>\n",
              "      <td>yes</td>\n",
              "      <td>True</td>\n",
              "    </tr>\n",
              "    <tr>\n",
              "      <th>3</th>\n",
              "      <td>1</td>\n",
              "      <td>1</td>\n",
              "      <td>female</td>\n",
              "      <td>35.0</td>\n",
              "      <td>1</td>\n",
              "      <td>0</td>\n",
              "      <td>53.1000</td>\n",
              "      <td>S</td>\n",
              "      <td>First</td>\n",
              "      <td>woman</td>\n",
              "      <td>False</td>\n",
              "      <td>C</td>\n",
              "      <td>Southampton</td>\n",
              "      <td>yes</td>\n",
              "      <td>False</td>\n",
              "    </tr>\n",
              "    <tr>\n",
              "      <th>4</th>\n",
              "      <td>0</td>\n",
              "      <td>3</td>\n",
              "      <td>male</td>\n",
              "      <td>35.0</td>\n",
              "      <td>0</td>\n",
              "      <td>0</td>\n",
              "      <td>8.0500</td>\n",
              "      <td>S</td>\n",
              "      <td>Third</td>\n",
              "      <td>man</td>\n",
              "      <td>True</td>\n",
              "      <td>NaN</td>\n",
              "      <td>Southampton</td>\n",
              "      <td>no</td>\n",
              "      <td>True</td>\n",
              "    </tr>\n",
              "  </tbody>\n",
              "</table>\n",
              "</div>\n",
              "    <div class=\"colab-df-buttons\">\n",
              "\n",
              "  <div class=\"colab-df-container\">\n",
              "    <button class=\"colab-df-convert\" onclick=\"convertToInteractive('df-3d00ec41-97a2-497a-8cea-99eb6f83b5c0')\"\n",
              "            title=\"Convert this dataframe to an interactive table.\"\n",
              "            style=\"display:none;\">\n",
              "\n",
              "  <svg xmlns=\"http://www.w3.org/2000/svg\" height=\"24px\" viewBox=\"0 -960 960 960\">\n",
              "    <path d=\"M120-120v-720h720v720H120Zm60-500h600v-160H180v160Zm220 220h160v-160H400v160Zm0 220h160v-160H400v160ZM180-400h160v-160H180v160Zm440 0h160v-160H620v160ZM180-180h160v-160H180v160Zm440 0h160v-160H620v160Z\"/>\n",
              "  </svg>\n",
              "    </button>\n",
              "\n",
              "  <style>\n",
              "    .colab-df-container {\n",
              "      display:flex;\n",
              "      gap: 12px;\n",
              "    }\n",
              "\n",
              "    .colab-df-convert {\n",
              "      background-color: #E8F0FE;\n",
              "      border: none;\n",
              "      border-radius: 50%;\n",
              "      cursor: pointer;\n",
              "      display: none;\n",
              "      fill: #1967D2;\n",
              "      height: 32px;\n",
              "      padding: 0 0 0 0;\n",
              "      width: 32px;\n",
              "    }\n",
              "\n",
              "    .colab-df-convert:hover {\n",
              "      background-color: #E2EBFA;\n",
              "      box-shadow: 0px 1px 2px rgba(60, 64, 67, 0.3), 0px 1px 3px 1px rgba(60, 64, 67, 0.15);\n",
              "      fill: #174EA6;\n",
              "    }\n",
              "\n",
              "    .colab-df-buttons div {\n",
              "      margin-bottom: 4px;\n",
              "    }\n",
              "\n",
              "    [theme=dark] .colab-df-convert {\n",
              "      background-color: #3B4455;\n",
              "      fill: #D2E3FC;\n",
              "    }\n",
              "\n",
              "    [theme=dark] .colab-df-convert:hover {\n",
              "      background-color: #434B5C;\n",
              "      box-shadow: 0px 1px 3px 1px rgba(0, 0, 0, 0.15);\n",
              "      filter: drop-shadow(0px 1px 2px rgba(0, 0, 0, 0.3));\n",
              "      fill: #FFFFFF;\n",
              "    }\n",
              "  </style>\n",
              "\n",
              "    <script>\n",
              "      const buttonEl =\n",
              "        document.querySelector('#df-3d00ec41-97a2-497a-8cea-99eb6f83b5c0 button.colab-df-convert');\n",
              "      buttonEl.style.display =\n",
              "        google.colab.kernel.accessAllowed ? 'block' : 'none';\n",
              "\n",
              "      async function convertToInteractive(key) {\n",
              "        const element = document.querySelector('#df-3d00ec41-97a2-497a-8cea-99eb6f83b5c0');\n",
              "        const dataTable =\n",
              "          await google.colab.kernel.invokeFunction('convertToInteractive',\n",
              "                                                    [key], {});\n",
              "        if (!dataTable) return;\n",
              "\n",
              "        const docLinkHtml = 'Like what you see? Visit the ' +\n",
              "          '<a target=\"_blank\" href=https://colab.research.google.com/notebooks/data_table.ipynb>data table notebook</a>'\n",
              "          + ' to learn more about interactive tables.';\n",
              "        element.innerHTML = '';\n",
              "        dataTable['output_type'] = 'display_data';\n",
              "        await google.colab.output.renderOutput(dataTable, element);\n",
              "        const docLink = document.createElement('div');\n",
              "        docLink.innerHTML = docLinkHtml;\n",
              "        element.appendChild(docLink);\n",
              "      }\n",
              "    </script>\n",
              "  </div>\n",
              "\n",
              "\n",
              "<div id=\"df-6b202c43-b459-4eea-94de-407ee8406717\">\n",
              "  <button class=\"colab-df-quickchart\" onclick=\"quickchart('df-6b202c43-b459-4eea-94de-407ee8406717')\"\n",
              "            title=\"Suggest charts\"\n",
              "            style=\"display:none;\">\n",
              "\n",
              "<svg xmlns=\"http://www.w3.org/2000/svg\" height=\"24px\"viewBox=\"0 0 24 24\"\n",
              "     width=\"24px\">\n",
              "    <g>\n",
              "        <path d=\"M19 3H5c-1.1 0-2 .9-2 2v14c0 1.1.9 2 2 2h14c1.1 0 2-.9 2-2V5c0-1.1-.9-2-2-2zM9 17H7v-7h2v7zm4 0h-2V7h2v10zm4 0h-2v-4h2v4z\"/>\n",
              "    </g>\n",
              "</svg>\n",
              "  </button>\n",
              "\n",
              "<style>\n",
              "  .colab-df-quickchart {\n",
              "      --bg-color: #E8F0FE;\n",
              "      --fill-color: #1967D2;\n",
              "      --hover-bg-color: #E2EBFA;\n",
              "      --hover-fill-color: #174EA6;\n",
              "      --disabled-fill-color: #AAA;\n",
              "      --disabled-bg-color: #DDD;\n",
              "  }\n",
              "\n",
              "  [theme=dark] .colab-df-quickchart {\n",
              "      --bg-color: #3B4455;\n",
              "      --fill-color: #D2E3FC;\n",
              "      --hover-bg-color: #434B5C;\n",
              "      --hover-fill-color: #FFFFFF;\n",
              "      --disabled-bg-color: #3B4455;\n",
              "      --disabled-fill-color: #666;\n",
              "  }\n",
              "\n",
              "  .colab-df-quickchart {\n",
              "    background-color: var(--bg-color);\n",
              "    border: none;\n",
              "    border-radius: 50%;\n",
              "    cursor: pointer;\n",
              "    display: none;\n",
              "    fill: var(--fill-color);\n",
              "    height: 32px;\n",
              "    padding: 0;\n",
              "    width: 32px;\n",
              "  }\n",
              "\n",
              "  .colab-df-quickchart:hover {\n",
              "    background-color: var(--hover-bg-color);\n",
              "    box-shadow: 0 1px 2px rgba(60, 64, 67, 0.3), 0 1px 3px 1px rgba(60, 64, 67, 0.15);\n",
              "    fill: var(--button-hover-fill-color);\n",
              "  }\n",
              "\n",
              "  .colab-df-quickchart-complete:disabled,\n",
              "  .colab-df-quickchart-complete:disabled:hover {\n",
              "    background-color: var(--disabled-bg-color);\n",
              "    fill: var(--disabled-fill-color);\n",
              "    box-shadow: none;\n",
              "  }\n",
              "\n",
              "  .colab-df-spinner {\n",
              "    border: 2px solid var(--fill-color);\n",
              "    border-color: transparent;\n",
              "    border-bottom-color: var(--fill-color);\n",
              "    animation:\n",
              "      spin 1s steps(1) infinite;\n",
              "  }\n",
              "\n",
              "  @keyframes spin {\n",
              "    0% {\n",
              "      border-color: transparent;\n",
              "      border-bottom-color: var(--fill-color);\n",
              "      border-left-color: var(--fill-color);\n",
              "    }\n",
              "    20% {\n",
              "      border-color: transparent;\n",
              "      border-left-color: var(--fill-color);\n",
              "      border-top-color: var(--fill-color);\n",
              "    }\n",
              "    30% {\n",
              "      border-color: transparent;\n",
              "      border-left-color: var(--fill-color);\n",
              "      border-top-color: var(--fill-color);\n",
              "      border-right-color: var(--fill-color);\n",
              "    }\n",
              "    40% {\n",
              "      border-color: transparent;\n",
              "      border-right-color: var(--fill-color);\n",
              "      border-top-color: var(--fill-color);\n",
              "    }\n",
              "    60% {\n",
              "      border-color: transparent;\n",
              "      border-right-color: var(--fill-color);\n",
              "    }\n",
              "    80% {\n",
              "      border-color: transparent;\n",
              "      border-right-color: var(--fill-color);\n",
              "      border-bottom-color: var(--fill-color);\n",
              "    }\n",
              "    90% {\n",
              "      border-color: transparent;\n",
              "      border-bottom-color: var(--fill-color);\n",
              "    }\n",
              "  }\n",
              "</style>\n",
              "\n",
              "  <script>\n",
              "    async function quickchart(key) {\n",
              "      const quickchartButtonEl =\n",
              "        document.querySelector('#' + key + ' button');\n",
              "      quickchartButtonEl.disabled = true;  // To prevent multiple clicks.\n",
              "      quickchartButtonEl.classList.add('colab-df-spinner');\n",
              "      try {\n",
              "        const charts = await google.colab.kernel.invokeFunction(\n",
              "            'suggestCharts', [key], {});\n",
              "      } catch (error) {\n",
              "        console.error('Error during call to suggestCharts:', error);\n",
              "      }\n",
              "      quickchartButtonEl.classList.remove('colab-df-spinner');\n",
              "      quickchartButtonEl.classList.add('colab-df-quickchart-complete');\n",
              "    }\n",
              "    (() => {\n",
              "      let quickchartButtonEl =\n",
              "        document.querySelector('#df-6b202c43-b459-4eea-94de-407ee8406717 button');\n",
              "      quickchartButtonEl.style.display =\n",
              "        google.colab.kernel.accessAllowed ? 'block' : 'none';\n",
              "    })();\n",
              "  </script>\n",
              "</div>\n",
              "\n",
              "    </div>\n",
              "  </div>\n"
            ],
            "application/vnd.google.colaboratory.intrinsic+json": {
              "type": "dataframe",
              "variable_name": "titanic",
              "summary": "{\n  \"name\": \"titanic\",\n  \"rows\": 891,\n  \"fields\": [\n    {\n      \"column\": \"survived\",\n      \"properties\": {\n        \"dtype\": \"number\",\n        \"std\": 0,\n        \"min\": 0,\n        \"max\": 1,\n        \"num_unique_values\": 2,\n        \"samples\": [\n          1,\n          0\n        ],\n        \"semantic_type\": \"\",\n        \"description\": \"\"\n      }\n    },\n    {\n      \"column\": \"pclass\",\n      \"properties\": {\n        \"dtype\": \"number\",\n        \"std\": 0,\n        \"min\": 1,\n        \"max\": 3,\n        \"num_unique_values\": 3,\n        \"samples\": [\n          3,\n          1\n        ],\n        \"semantic_type\": \"\",\n        \"description\": \"\"\n      }\n    },\n    {\n      \"column\": \"sex\",\n      \"properties\": {\n        \"dtype\": \"category\",\n        \"num_unique_values\": 2,\n        \"samples\": [\n          \"female\",\n          \"male\"\n        ],\n        \"semantic_type\": \"\",\n        \"description\": \"\"\n      }\n    },\n    {\n      \"column\": \"age\",\n      \"properties\": {\n        \"dtype\": \"number\",\n        \"std\": 14.526497332334044,\n        \"min\": 0.42,\n        \"max\": 80.0,\n        \"num_unique_values\": 88,\n        \"samples\": [\n          0.75,\n          22.0\n        ],\n        \"semantic_type\": \"\",\n        \"description\": \"\"\n      }\n    },\n    {\n      \"column\": \"sibsp\",\n      \"properties\": {\n        \"dtype\": \"number\",\n        \"std\": 1,\n        \"min\": 0,\n        \"max\": 8,\n        \"num_unique_values\": 7,\n        \"samples\": [\n          1,\n          0\n        ],\n        \"semantic_type\": \"\",\n        \"description\": \"\"\n      }\n    },\n    {\n      \"column\": \"parch\",\n      \"properties\": {\n        \"dtype\": \"number\",\n        \"std\": 0,\n        \"min\": 0,\n        \"max\": 6,\n        \"num_unique_values\": 7,\n        \"samples\": [\n          0,\n          1\n        ],\n        \"semantic_type\": \"\",\n        \"description\": \"\"\n      }\n    },\n    {\n      \"column\": \"fare\",\n      \"properties\": {\n        \"dtype\": \"number\",\n        \"std\": 49.693428597180905,\n        \"min\": 0.0,\n        \"max\": 512.3292,\n        \"num_unique_values\": 248,\n        \"samples\": [\n          11.2417,\n          51.8625\n        ],\n        \"semantic_type\": \"\",\n        \"description\": \"\"\n      }\n    },\n    {\n      \"column\": \"embarked\",\n      \"properties\": {\n        \"dtype\": \"category\",\n        \"num_unique_values\": 3,\n        \"samples\": [\n          \"S\",\n          \"C\"\n        ],\n        \"semantic_type\": \"\",\n        \"description\": \"\"\n      }\n    },\n    {\n      \"column\": \"class\",\n      \"properties\": {\n        \"dtype\": \"category\",\n        \"num_unique_values\": 3,\n        \"samples\": [\n          \"Third\",\n          \"First\"\n        ],\n        \"semantic_type\": \"\",\n        \"description\": \"\"\n      }\n    },\n    {\n      \"column\": \"who\",\n      \"properties\": {\n        \"dtype\": \"category\",\n        \"num_unique_values\": 3,\n        \"samples\": [\n          \"man\",\n          \"woman\"\n        ],\n        \"semantic_type\": \"\",\n        \"description\": \"\"\n      }\n    },\n    {\n      \"column\": \"adult_male\",\n      \"properties\": {\n        \"dtype\": \"boolean\",\n        \"num_unique_values\": 2,\n        \"samples\": [\n          false,\n          true\n        ],\n        \"semantic_type\": \"\",\n        \"description\": \"\"\n      }\n    },\n    {\n      \"column\": \"deck\",\n      \"properties\": {\n        \"dtype\": \"category\",\n        \"num_unique_values\": 7,\n        \"samples\": [\n          \"C\",\n          \"E\"\n        ],\n        \"semantic_type\": \"\",\n        \"description\": \"\"\n      }\n    },\n    {\n      \"column\": \"embark_town\",\n      \"properties\": {\n        \"dtype\": \"category\",\n        \"num_unique_values\": 3,\n        \"samples\": [\n          \"Southampton\",\n          \"Cherbourg\"\n        ],\n        \"semantic_type\": \"\",\n        \"description\": \"\"\n      }\n    },\n    {\n      \"column\": \"alive\",\n      \"properties\": {\n        \"dtype\": \"category\",\n        \"num_unique_values\": 2,\n        \"samples\": [\n          \"yes\",\n          \"no\"\n        ],\n        \"semantic_type\": \"\",\n        \"description\": \"\"\n      }\n    },\n    {\n      \"column\": \"alone\",\n      \"properties\": {\n        \"dtype\": \"boolean\",\n        \"num_unique_values\": 2,\n        \"samples\": [\n          true,\n          false\n        ],\n        \"semantic_type\": \"\",\n        \"description\": \"\"\n      }\n    }\n  ]\n}"
            }
          },
          "metadata": {},
          "execution_count": 10
        }
      ],
      "source": [
        "titanic=sns.load_dataset('titanic')\n",
        "titanic.head()"
      ]
    },
    {
      "cell_type": "markdown",
      "id": "aaf76ff3",
      "metadata": {
        "id": "aaf76ff3"
      },
      "source": [
        "### 문제 [4-1] - 8점"
      ]
    },
    {
      "cell_type": "markdown",
      "id": "50aa4759",
      "metadata": {
        "id": "50aa4759"
      },
      "source": [
        "titanic에서 열별 결측치 여부를 확인하고, 결측치가 존재한다면 결측치를 해당 열의 평균값으로 채우세요."
      ]
    },
    {
      "cell_type": "code",
      "execution_count": 12,
      "id": "59b4b449",
      "metadata": {
        "id": "59b4b449",
        "colab": {
          "base_uri": "https://localhost:8080/"
        },
        "outputId": "70b48341-b736-47e2-895e-27c64053adc7"
      },
      "outputs": [
        {
          "output_type": "stream",
          "name": "stdout",
          "text": [
            "survived         0\n",
            "pclass           0\n",
            "sex              0\n",
            "age              0\n",
            "sibsp            0\n",
            "parch            0\n",
            "fare             0\n",
            "embarked         2\n",
            "class            0\n",
            "who              0\n",
            "adult_male       0\n",
            "deck           688\n",
            "embark_town      2\n",
            "alive            0\n",
            "alone            0\n",
            "dtype: int64\n"
          ]
        }
      ],
      "source": [
        "# 열별 결측치 확인 및 평균으로 채우기\n",
        "titanic = sns.load_dataset(\"titanic\")\n",
        "\n",
        "# Select only numeric columns for calculating the mean\n",
        "numeric_columns = titanic.select_dtypes(include=np.number).columns\n",
        "titanic[numeric_columns] = titanic[numeric_columns].fillna(titanic[numeric_columns].mean())\n",
        "\n",
        "# 출력\n",
        "print(titanic.isnull().sum())\n"
      ]
    },
    {
      "cell_type": "markdown",
      "id": "af010f1a",
      "metadata": {
        "id": "af010f1a"
      },
      "source": [
        "### 문제 [4-2] - 점수 7점\n",
        "titanic의 각 열에서 결측치가 아닌 데이터가 250개 이상이 되지 않는 경우, 이 열을 삭제한 후 df에 저장하세요."
      ]
    },
    {
      "cell_type": "code",
      "source": [
        "# 결측치가 많은 열 삭제\n",
        "df = titanic.dropna(axis=1, thresh=250)\n",
        "\n",
        "# 출력\n",
        "print(df.head())\n"
      ],
      "metadata": {
        "colab": {
          "base_uri": "https://localhost:8080/"
        },
        "id": "qxIrG5l6BDpe",
        "outputId": "48471311-e5a3-4208-93b9-0d30703ba368"
      },
      "id": "qxIrG5l6BDpe",
      "execution_count": 13,
      "outputs": [
        {
          "output_type": "stream",
          "name": "stdout",
          "text": [
            "   survived  pclass     sex   age  sibsp  parch     fare embarked  class  \\\n",
            "0         0       3    male  22.0      1      0   7.2500        S  Third   \n",
            "1         1       1  female  38.0      1      0  71.2833        C  First   \n",
            "2         1       3  female  26.0      0      0   7.9250        S  Third   \n",
            "3         1       1  female  35.0      1      0  53.1000        S  First   \n",
            "4         0       3    male  35.0      0      0   8.0500        S  Third   \n",
            "\n",
            "     who  adult_male  embark_town alive  alone  \n",
            "0    man        True  Southampton    no  False  \n",
            "1  woman       False    Cherbourg   yes  False  \n",
            "2  woman       False  Southampton   yes   True  \n",
            "3  woman       False  Southampton   yes  False  \n",
            "4    man        True  Southampton    no   True  \n"
          ]
        }
      ]
    },
    {
      "cell_type": "markdown",
      "source": [],
      "metadata": {
        "id": "dwYTmPZJBEiN"
      },
      "id": "dwYTmPZJBEiN"
    },
    {
      "cell_type": "markdown",
      "id": "ac148480",
      "metadata": {
        "id": "ac148480"
      },
      "source": [
        "### 문제 [4-3] - 5점\n",
        "\n",
        "* 수치형 데이터의 열별 분포를 간략히 요약해 나타내세요.\n",
        "\n",
        "* 평균, 최댓값, 사분위수 등"
      ]
    },
    {
      "cell_type": "code",
      "execution_count": 14,
      "id": "df5c2a12",
      "metadata": {
        "id": "df5c2a12",
        "colab": {
          "base_uri": "https://localhost:8080/"
        },
        "outputId": "0b1e498d-72c8-4ce6-f429-837a98a08b86"
      },
      "outputs": [
        {
          "output_type": "stream",
          "name": "stdout",
          "text": [
            "         survived      pclass         age       sibsp       parch        fare\n",
            "count  891.000000  891.000000  891.000000  891.000000  891.000000  891.000000\n",
            "mean     0.383838    2.308642   29.699118    0.523008    0.381594   32.204208\n",
            "std      0.486592    0.836071   13.002015    1.102743    0.806057   49.693429\n",
            "min      0.000000    1.000000    0.420000    0.000000    0.000000    0.000000\n",
            "25%      0.000000    2.000000   22.000000    0.000000    0.000000    7.910400\n",
            "50%      0.000000    3.000000   29.699118    0.000000    0.000000   14.454200\n",
            "75%      1.000000    3.000000   35.000000    1.000000    0.000000   31.000000\n",
            "max      1.000000    3.000000   80.000000    8.000000    6.000000  512.329200\n"
          ]
        }
      ],
      "source": [
        "# 요약 통계\n",
        "print(titanic.describe())\n"
      ]
    },
    {
      "cell_type": "markdown",
      "id": "20130a96",
      "metadata": {
        "id": "20130a96"
      },
      "source": [
        "### 문제 [4-4] - 6점"
      ]
    },
    {
      "cell_type": "markdown",
      "id": "9f5bb31c",
      "metadata": {
        "id": "9f5bb31c"
      },
      "source": [
        "titanic에서 sex와 pclass 별 생존율을 구하세요."
      ]
    },
    {
      "cell_type": "code",
      "execution_count": 15,
      "id": "d4596b19",
      "metadata": {
        "id": "d4596b19",
        "colab": {
          "base_uri": "https://localhost:8080/"
        },
        "outputId": "cffb8b8c-e6da-46a5-fa55-2cdff5dfc86a"
      },
      "outputs": [
        {
          "output_type": "stream",
          "name": "stdout",
          "text": [
            "sex     pclass\n",
            "female  1         0.968085\n",
            "        2         0.921053\n",
            "        3         0.500000\n",
            "male    1         0.368852\n",
            "        2         0.157407\n",
            "        3         0.135447\n",
            "Name: survived, dtype: float64\n"
          ]
        }
      ],
      "source": [
        "# 생존율 계산\n",
        "survival_rate = titanic.groupby([\"sex\", \"pclass\"])[\"survived\"].mean()\n",
        "\n",
        "# 출력\n",
        "print(survival_rate)\n"
      ]
    },
    {
      "cell_type": "markdown",
      "id": "0559e325",
      "metadata": {
        "id": "0559e325"
      },
      "source": [
        "### 문제 [4-5] - 8점\n",
        "\n",
        "* pclass 별 사망과 생존 수치를 막대그래프로 나타내세요.\n",
        "\n",
        "* sex 별 사망과 생존 수치를 막대그래프로 나타내세요.\n",
        "\n",
        "* hint: countplot 함수 사용"
      ]
    },
    {
      "cell_type": "code",
      "execution_count": 16,
      "id": "73c087f0",
      "metadata": {
        "id": "73c087f0",
        "colab": {
          "base_uri": "https://localhost:8080/",
          "height": 927
        },
        "outputId": "916ee493-856d-418d-b648-0872af4a50a2"
      },
      "outputs": [
        {
          "output_type": "display_data",
          "data": {
            "text/plain": [
              "<Figure size 640x480 with 1 Axes>"
            ],
            "image/png": "[encoded data removed]"
          },
          "metadata": {}
        },
        {
          "output_type": "display_data",
          "data": {
            "text/plain": [
              "<Figure size 640x480 with 1 Axes>"
            ],
            "image/png": "[encoded data removed]"
          },
          "metadata": {}
        }
      ],
      "source": [
        "# pclass별 시각화\n",
        "sns.countplot(data=titanic, x=\"pclass\", hue=\"survived\")\n",
        "plt.title(\"Pclass vs Survival\")\n",
        "plt.show()\n",
        "\n",
        "# 성별 시각화\n",
        "sns.countplot(data=titanic, x=\"sex\", hue=\"survived\")\n",
        "plt.title(\"Sex vs Survival\")\n",
        "plt.show()\n"
      ]
    },
    {
      "cell_type": "markdown",
      "id": "6f13d342",
      "metadata": {
        "id": "6f13d342"
      },
      "source": [
        "### 문제 [4-6] - 8점\n",
        "\n",
        "* titanic에서 age가 20살 이상이면 adult로, 20살 미만이면 child로 나타내는 label열을 추가하세요.\n",
        "\n",
        "* hint: apply, lambda 함수 사용"
      ]
    },
    {
      "cell_type": "code",
      "execution_count": 17,
      "id": "fbf30653",
      "metadata": {
        "id": "fbf30653",
        "colab": {
          "base_uri": "https://localhost:8080/"
        },
        "outputId": "42ddd6b1-ed87-40e0-9412-313c46e4b9d7"
      },
      "outputs": [
        {
          "output_type": "stream",
          "name": "stdout",
          "text": [
            "   survived  pclass     sex   age  sibsp  parch     fare embarked  class  \\\n",
            "0         0       3    male  22.0      1      0   7.2500        S  Third   \n",
            "1         1       1  female  38.0      1      0  71.2833        C  First   \n",
            "2         1       3  female  26.0      0      0   7.9250        S  Third   \n",
            "3         1       1  female  35.0      1      0  53.1000        S  First   \n",
            "4         0       3    male  35.0      0      0   8.0500        S  Third   \n",
            "\n",
            "     who  adult_male deck  embark_town alive  alone  label  \n",
            "0    man        True  NaN  Southampton    no  False  adult  \n",
            "1  woman       False    C    Cherbourg   yes  False  adult  \n",
            "2  woman       False  NaN  Southampton   yes   True  adult  \n",
            "3  woman       False    C  Southampton   yes  False  adult  \n",
            "4    man        True  NaN  Southampton    no   True  adult  \n"
          ]
        }
      ],
      "source": [
        "# label 열 추가\n",
        "titanic[\"label\"] = titanic[\"age\"].apply(lambda x: \"adult\" if x >= 20 else \"child\")\n",
        "\n",
        "# 출력\n",
        "print(titanic.head())\n"
      ]
    },
    {
      "cell_type": "markdown",
      "id": "95fe19e1",
      "metadata": {
        "id": "95fe19e1"
      },
      "source": [
        "### 문제 [4-7] - 8점\n",
        "\n",
        "* titanic에서 pclass, sex, age, sibsp, parch, class 열만 뽑은 후, parch의 값이 0인 행만 titanic1에 저장하세요.\n",
        "\n",
        "* 이때 새롭게 만들어진 titanic1의 index는 0부터 다시 시작하도록 하세요.\n",
        "\n",
        "* hint: loc 함수 사용"
      ]
    },
    {
      "cell_type": "code",
      "execution_count": 18,
      "id": "bce482a4",
      "metadata": {
        "id": "bce482a4",
        "colab": {
          "base_uri": "https://localhost:8080/"
        },
        "outputId": "fc292966-d9c0-4270-ef88-50c9ef7435d0"
      },
      "outputs": [
        {
          "output_type": "stream",
          "name": "stdout",
          "text": [
            "   pclass     sex   age  sibsp  parch  class\n",
            "0       3    male  22.0      1      0  Third\n",
            "1       1  female  38.0      1      0  First\n",
            "2       3  female  26.0      0      0  Third\n",
            "3       1  female  35.0      1      0  First\n",
            "4       3    male  35.0      0      0  Third\n"
          ]
        }
      ],
      "source": [
        "# 열 추출 및 조건 필터링\n",
        "titanic1 = titanic.loc[\n",
        "    (titanic[\"parch\"] == 0),\n",
        "    [\"pclass\", \"sex\", \"age\", \"sibsp\", \"parch\", \"class\"]\n",
        "].reset_index(drop=True)\n",
        "\n",
        "# 출력\n",
        "print(titanic1.head())\n"
      ]
    },
    {
      "cell_type": "markdown",
      "id": "9b82c726",
      "metadata": {
        "id": "9b82c726"
      },
      "source": [
        "# END\n",
        "\n",
        "## 수고하셨습니다:) 좋은 결과 있기를 바라며, 코딩테스트는 절대적 평가 기준이 아닙니다."
      ]
    }
  ],
  "metadata": {
    "kernelspec": {
      "display_name": "Python 3 (ipykernel)",
      "language": "python",
      "name": "python3"
    },
    "language_info": {
      "codemirror_mode": {
        "name": "ipython",
        "version": 3
      },
      "file_extension": ".py",
      "mimetype": "text/x-python",
      "name": "python",
      "nbconvert_exporter": "python",
      "pygments_lexer": "ipython3",
      "version": "3.11.5"
    },
    "colab": {
      "provenance": [],
      "include_colab_link": true
    }
  },
  "nbformat": 4,
  "nbformat_minor": 5
}